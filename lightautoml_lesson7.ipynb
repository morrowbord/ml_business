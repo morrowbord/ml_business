{
 "cells": [
  {
   "cell_type": "markdown",
   "metadata": {
    "id": "satellite-combat",
    "papermill": {
     "duration": 0.032379,
     "end_time": "2021-06-22T20:10:29.835505",
     "exception": false,
     "start_time": "2021-06-22T20:10:29.803126",
     "status": "completed"
    },
    "tags": []
   },
   "source": [
    "## Official LightAutoML github repository is [here](https://github.com/sberbank-ai-lab/LightAutoML)\n",
    "\n",
    "## Upvote is the best motivator 👍\n",
    "\n",
    "# Step 0.0. LightAutoML installation"
   ]
  },
  {
   "cell_type": "markdown",
   "metadata": {
    "id": "gentle-pride",
    "papermill": {
     "duration": 0.032828,
     "end_time": "2021-06-22T20:10:29.900599",
     "exception": false,
     "start_time": "2021-06-22T20:10:29.867771",
     "status": "completed"
    },
    "tags": []
   },
   "source": [
    "This step can be used if you are working inside Google Colab/Kaggle kernels or want to install LightAutoML on your machine:"
   ]
  },
  {
   "cell_type": "code",
   "execution_count": 1,
   "metadata": {
    "_kg_hide-output": true,
    "colab": {
     "base_uri": "https://localhost:8080/"
    },
    "execution": {
     "iopub.execute_input": "2021-06-22T20:10:29.980264Z",
     "iopub.status.busy": "2021-06-22T20:10:29.979511Z",
     "iopub.status.idle": "2021-06-22T20:10:52.955439Z",
     "shell.execute_reply": "2021-06-22T20:10:52.953955Z",
     "shell.execute_reply.started": "2021-06-22T19:06:24.534180Z"
    },
    "id": "dress-clearance",
    "outputId": "6f58507b-3eae-4042-cdcc-61d06e7a36bb",
    "papermill": {
     "duration": 23.023261,
     "end_time": "2021-06-22T20:10:52.955691",
     "exception": false,
     "start_time": "2021-06-22T20:10:29.932430",
     "status": "completed"
    },
    "scrolled": true,
    "tags": []
   },
   "outputs": [
    {
     "name": "stdout",
     "output_type": "stream",
     "text": [
      "Requirement already satisfied: lightautoml in /usr/local/lib/python3.7/dist-packages (0.2.16)\n",
      "Requirement already satisfied: cmaes in /usr/local/lib/python3.7/dist-packages (from lightautoml) (0.8.2)\n",
      "Requirement already satisfied: scikit-image in /usr/local/lib/python3.7/dist-packages (from lightautoml) (0.16.2)\n",
      "Requirement already satisfied: efficientnet-pytorch in /usr/local/lib/python3.7/dist-packages (from lightautoml) (0.7.1)\n",
      "Requirement already satisfied: autowoe>=1.2 in /usr/local/lib/python3.7/dist-packages (from lightautoml) (1.2.5)\n",
      "Requirement already satisfied: transformers>=4 in /usr/local/lib/python3.7/dist-packages (from lightautoml) (4.9.2)\n",
      "Requirement already satisfied: lightgbm<3.0,>=2.3 in /usr/local/lib/python3.7/dist-packages (from lightautoml) (2.3.1)\n",
      "Requirement already satisfied: torchvision in /usr/local/lib/python3.7/dist-packages (from lightautoml) (0.9.1)\n",
      "Requirement already satisfied: networkx in /usr/local/lib/python3.7/dist-packages (from lightautoml) (2.6.2)\n",
      "Requirement already satisfied: nltk in /usr/local/lib/python3.7/dist-packages (from lightautoml) (3.2.5)\n",
      "Requirement already satisfied: importlib-metadata<2.0,>=1.0 in /usr/local/lib/python3.7/dist-packages (from lightautoml) (1.7.0)\n",
      "Requirement already satisfied: jinja2 in /usr/local/lib/python3.7/dist-packages (from lightautoml) (2.11.3)\n",
      "Requirement already satisfied: torch<1.9 in /usr/local/lib/python3.7/dist-packages (from lightautoml) (1.8.1)\n",
      "Requirement already satisfied: pyyaml in /usr/local/lib/python3.7/dist-packages (from lightautoml) (5.4.1)\n",
      "Requirement already satisfied: opencv-python in /usr/local/lib/python3.7/dist-packages (from lightautoml) (4.1.2.30)\n",
      "Requirement already satisfied: webencodings in /usr/local/lib/python3.7/dist-packages (from lightautoml) (0.5.1)\n",
      "Requirement already satisfied: seaborn in /usr/local/lib/python3.7/dist-packages (from lightautoml) (0.11.1)\n",
      "Requirement already satisfied: joblib in /usr/local/lib/python3.7/dist-packages (from lightautoml) (1.0.1)\n",
      "Requirement already satisfied: json2html in /usr/local/lib/python3.7/dist-packages (from lightautoml) (1.3.0)\n",
      "Requirement already satisfied: pywavelets in /usr/local/lib/python3.7/dist-packages (from lightautoml) (1.1.1)\n",
      "Requirement already satisfied: gensim>=4 in /usr/local/lib/python3.7/dist-packages (from lightautoml) (4.0.1)\n",
      "Requirement already satisfied: tqdm in /usr/local/lib/python3.7/dist-packages (from lightautoml) (4.62.0)\n",
      "Requirement already satisfied: log-calls in /usr/local/lib/python3.7/dist-packages (from lightautoml) (0.3.2)\n",
      "Requirement already satisfied: pandas>=1 in /usr/local/lib/python3.7/dist-packages (from lightautoml) (1.1.5)\n",
      "Requirement already satisfied: scikit-learn>=0.22 in /usr/local/lib/python3.7/dist-packages (from lightautoml) (0.22.2.post1)\n",
      "Requirement already satisfied: optuna in /usr/local/lib/python3.7/dist-packages (from lightautoml) (2.9.1)\n",
      "Requirement already satisfied: numpy in /usr/local/lib/python3.7/dist-packages (from lightautoml) (1.19.5)\n",
      "Requirement already satisfied: holidays in /usr/local/lib/python3.7/dist-packages (from lightautoml) (0.10.5.2)\n",
      "Requirement already satisfied: catboost in /usr/local/lib/python3.7/dist-packages (from lightautoml) (0.26.1)\n",
      "Requirement already satisfied: poetry-core<2.0.0,>=1.0.0 in /usr/local/lib/python3.7/dist-packages (from lightautoml) (1.0.3)\n",
      "Requirement already satisfied: albumentations>=0.4.6 in /usr/local/lib/python3.7/dist-packages (from lightautoml) (1.0.3)\n",
      "Requirement already satisfied: scipy in /usr/local/lib/python3.7/dist-packages (from lightautoml) (1.4.1)\n",
      "Requirement already satisfied: opencv-python-headless>=4.1.1 in /usr/local/lib/python3.7/dist-packages (from albumentations>=0.4.6->lightautoml) (4.5.3.56)\n",
      "Requirement already satisfied: sphinx-rtd-theme in /usr/local/lib/python3.7/dist-packages (from autowoe>=1.2->lightautoml) (0.5.2)\n",
      "Requirement already satisfied: matplotlib in /usr/local/lib/python3.7/dist-packages (from autowoe>=1.2->lightautoml) (3.2.2)\n",
      "Requirement already satisfied: pytz in /usr/local/lib/python3.7/dist-packages (from autowoe>=1.2->lightautoml) (2018.9)\n",
      "Requirement already satisfied: sphinx in /usr/local/lib/python3.7/dist-packages (from autowoe>=1.2->lightautoml) (1.8.5)\n",
      "Requirement already satisfied: pytest in /usr/local/lib/python3.7/dist-packages (from autowoe>=1.2->lightautoml) (3.6.4)\n",
      "Requirement already satisfied: smart-open>=1.8.1 in /usr/local/lib/python3.7/dist-packages (from gensim>=4->lightautoml) (5.1.0)\n",
      "Requirement already satisfied: zipp>=0.5 in /usr/local/lib/python3.7/dist-packages (from importlib-metadata<2.0,>=1.0->lightautoml) (3.5.0)\n",
      "Requirement already satisfied: python-dateutil>=2.7.3 in /usr/local/lib/python3.7/dist-packages (from pandas>=1->lightautoml) (2.8.2)\n",
      "Requirement already satisfied: six>=1.5 in /usr/local/lib/python3.7/dist-packages (from python-dateutil>=2.7.3->pandas>=1->lightautoml) (1.15.0)\n",
      "Requirement already satisfied: pillow>=4.3.0 in /usr/local/lib/python3.7/dist-packages (from scikit-image->lightautoml) (7.1.2)\n",
      "Requirement already satisfied: imageio>=2.3.0 in /usr/local/lib/python3.7/dist-packages (from scikit-image->lightautoml) (2.4.1)\n",
      "Requirement already satisfied: cycler>=0.10 in /usr/local/lib/python3.7/dist-packages (from matplotlib->autowoe>=1.2->lightautoml) (0.10.0)\n",
      "Requirement already satisfied: pyparsing!=2.0.4,!=2.1.2,!=2.1.6,>=2.0.1 in /usr/local/lib/python3.7/dist-packages (from matplotlib->autowoe>=1.2->lightautoml) (2.4.7)\n",
      "Requirement already satisfied: kiwisolver>=1.0.1 in /usr/local/lib/python3.7/dist-packages (from matplotlib->autowoe>=1.2->lightautoml) (1.3.1)\n",
      "Requirement already satisfied: typing-extensions in /usr/local/lib/python3.7/dist-packages (from torch<1.9->lightautoml) (3.7.4.3)\n",
      "Requirement already satisfied: regex!=2019.12.17 in /usr/local/lib/python3.7/dist-packages (from transformers>=4->lightautoml) (2019.12.20)\n",
      "Requirement already satisfied: requests in /usr/local/lib/python3.7/dist-packages (from transformers>=4->lightautoml) (2.23.0)\n",
      "Requirement already satisfied: packaging in /usr/local/lib/python3.7/dist-packages (from transformers>=4->lightautoml) (21.0)\n",
      "Requirement already satisfied: huggingface-hub==0.0.12 in /usr/local/lib/python3.7/dist-packages (from transformers>=4->lightautoml) (0.0.12)\n",
      "Requirement already satisfied: tokenizers<0.11,>=0.10.1 in /usr/local/lib/python3.7/dist-packages (from transformers>=4->lightautoml) (0.10.3)\n",
      "Requirement already satisfied: sacremoses in /usr/local/lib/python3.7/dist-packages (from transformers>=4->lightautoml) (0.0.45)\n",
      "Requirement already satisfied: filelock in /usr/local/lib/python3.7/dist-packages (from transformers>=4->lightautoml) (3.0.12)\n",
      "Requirement already satisfied: graphviz in /usr/local/lib/python3.7/dist-packages (from catboost->lightautoml) (0.10.1)\n",
      "Requirement already satisfied: plotly in /usr/local/lib/python3.7/dist-packages (from catboost->lightautoml) (4.4.1)\n",
      "Requirement already satisfied: korean-lunar-calendar in /usr/local/lib/python3.7/dist-packages (from holidays->lightautoml) (0.2.1)\n",
      "Requirement already satisfied: hijri-converter in /usr/local/lib/python3.7/dist-packages (from holidays->lightautoml) (2.1.3)\n",
      "Requirement already satisfied: convertdate>=2.3.0 in /usr/local/lib/python3.7/dist-packages (from holidays->lightautoml) (2.3.2)\n",
      "Requirement already satisfied: pymeeus<=1,>=0.3.13 in /usr/local/lib/python3.7/dist-packages (from convertdate>=2.3.0->holidays->lightautoml) (0.5.11)\n",
      "Requirement already satisfied: MarkupSafe>=0.23 in /usr/local/lib/python3.7/dist-packages (from jinja2->lightautoml) (2.0.1)\n",
      "Requirement already satisfied: cliff in /usr/local/lib/python3.7/dist-packages (from optuna->lightautoml) (3.8.0)\n",
      "Requirement already satisfied: colorlog in /usr/local/lib/python3.7/dist-packages (from optuna->lightautoml) (5.0.1)\n",
      "Requirement already satisfied: sqlalchemy>=1.1.0 in /usr/local/lib/python3.7/dist-packages (from optuna->lightautoml) (1.4.22)\n",
      "Requirement already satisfied: alembic in /usr/local/lib/python3.7/dist-packages (from optuna->lightautoml) (1.6.5)\n",
      "Requirement already satisfied: greenlet!=0.4.17 in /usr/local/lib/python3.7/dist-packages (from sqlalchemy>=1.1.0->optuna->lightautoml) (1.1.1)\n",
      "Requirement already satisfied: Mako in /usr/local/lib/python3.7/dist-packages (from alembic->optuna->lightautoml) (1.1.4)\n",
      "Requirement already satisfied: python-editor>=0.3 in /usr/local/lib/python3.7/dist-packages (from alembic->optuna->lightautoml) (1.0.4)\n",
      "Requirement already satisfied: pbr!=2.1.0,>=2.0.0 in /usr/local/lib/python3.7/dist-packages (from cliff->optuna->lightautoml) (5.6.0)\n",
      "Requirement already satisfied: stevedore>=2.0.1 in /usr/local/lib/python3.7/dist-packages (from cliff->optuna->lightautoml) (3.3.0)\n",
      "Requirement already satisfied: cmd2>=1.0.0 in /usr/local/lib/python3.7/dist-packages (from cliff->optuna->lightautoml) (2.1.2)\n",
      "Requirement already satisfied: PrettyTable>=0.7.2 in /usr/local/lib/python3.7/dist-packages (from cliff->optuna->lightautoml) (2.1.0)\n",
      "Requirement already satisfied: pyperclip>=1.6 in /usr/local/lib/python3.7/dist-packages (from cmd2>=1.0.0->cliff->optuna->lightautoml) (1.8.2)\n",
      "Requirement already satisfied: wcwidth>=0.1.7 in /usr/local/lib/python3.7/dist-packages (from cmd2>=1.0.0->cliff->optuna->lightautoml) (0.2.5)\n",
      "Requirement already satisfied: colorama>=0.3.7 in /usr/local/lib/python3.7/dist-packages (from cmd2>=1.0.0->cliff->optuna->lightautoml) (0.4.4)\n",
      "Requirement already satisfied: attrs>=16.3.0 in /usr/local/lib/python3.7/dist-packages (from cmd2>=1.0.0->cliff->optuna->lightautoml) (21.2.0)\n",
      "Requirement already satisfied: retrying>=1.3.3 in /usr/local/lib/python3.7/dist-packages (from plotly->catboost->lightautoml) (1.3.3)\n",
      "Requirement already satisfied: setuptools in /usr/local/lib/python3.7/dist-packages (from pytest->autowoe>=1.2->lightautoml) (57.2.0)\n",
      "Requirement already satisfied: more-itertools>=4.0.0 in /usr/local/lib/python3.7/dist-packages (from pytest->autowoe>=1.2->lightautoml) (8.8.0)\n",
      "Requirement already satisfied: pluggy<0.8,>=0.5 in /usr/local/lib/python3.7/dist-packages (from pytest->autowoe>=1.2->lightautoml) (0.7.1)\n",
      "Requirement already satisfied: py>=1.5.0 in /usr/local/lib/python3.7/dist-packages (from pytest->autowoe>=1.2->lightautoml) (1.10.0)\n",
      "Requirement already satisfied: atomicwrites>=1.0 in /usr/local/lib/python3.7/dist-packages (from pytest->autowoe>=1.2->lightautoml) (1.4.0)\n",
      "Requirement already satisfied: certifi>=2017.4.17 in /usr/local/lib/python3.7/dist-packages (from requests->transformers>=4->lightautoml) (2021.5.30)\n",
      "Requirement already satisfied: urllib3!=1.25.0,!=1.25.1,<1.26,>=1.21.1 in /usr/local/lib/python3.7/dist-packages (from requests->transformers>=4->lightautoml) (1.24.3)\n",
      "Requirement already satisfied: chardet<4,>=3.0.2 in /usr/local/lib/python3.7/dist-packages (from requests->transformers>=4->lightautoml) (3.0.4)\n",
      "Requirement already satisfied: idna<3,>=2.5 in /usr/local/lib/python3.7/dist-packages (from requests->transformers>=4->lightautoml) (2.10)\n",
      "Requirement already satisfied: click in /usr/local/lib/python3.7/dist-packages (from sacremoses->transformers>=4->lightautoml) (7.1.2)\n",
      "Requirement already satisfied: babel!=2.0,>=1.3 in /usr/local/lib/python3.7/dist-packages (from sphinx->autowoe>=1.2->lightautoml) (2.9.1)\n",
      "Requirement already satisfied: alabaster<0.8,>=0.7 in /usr/local/lib/python3.7/dist-packages (from sphinx->autowoe>=1.2->lightautoml) (0.7.12)\n",
      "Requirement already satisfied: docutils>=0.11 in /usr/local/lib/python3.7/dist-packages (from sphinx->autowoe>=1.2->lightautoml) (0.16)\n",
      "Requirement already satisfied: sphinxcontrib-websupport in /usr/local/lib/python3.7/dist-packages (from sphinx->autowoe>=1.2->lightautoml) (1.2.4)\n",
      "Requirement already satisfied: Pygments>=2.0 in /usr/local/lib/python3.7/dist-packages (from sphinx->autowoe>=1.2->lightautoml) (2.6.1)\n",
      "Requirement already satisfied: snowballstemmer>=1.1 in /usr/local/lib/python3.7/dist-packages (from sphinx->autowoe>=1.2->lightautoml) (2.1.0)\n",
      "Requirement already satisfied: imagesize in /usr/local/lib/python3.7/dist-packages (from sphinx->autowoe>=1.2->lightautoml) (1.2.0)\n",
      "Requirement already satisfied: sphinxcontrib-serializinghtml in /usr/local/lib/python3.7/dist-packages (from sphinxcontrib-websupport->sphinx->autowoe>=1.2->lightautoml) (1.1.5)\n"
     ]
    }
   ],
   "source": [
    "!pip install -U lightautoml"
   ]
  },
  {
   "cell_type": "markdown",
   "metadata": {
    "id": "british-prince",
    "papermill": {
     "duration": 0.066681,
     "end_time": "2021-06-22T20:10:53.090975",
     "exception": false,
     "start_time": "2021-06-22T20:10:53.024294",
     "status": "completed"
    },
    "tags": []
   },
   "source": [
    "# Step 0.1. Библиотеки\n",
    "\n",
    "Тут стандарт:\n",
    "- Стандартные  python библиотеки для  OS и т.п..\n",
    "- Стандарт обработки DS : numpy, pandas, scikit-learn и torch (для нескольких этапов, не обязателеных)\n",
    "- LightAutoML модули"
   ]
  },
  {
   "cell_type": "code",
   "execution_count": 2,
   "metadata": {
    "execution": {
     "iopub.execute_input": "2021-06-22T20:10:53.233356Z",
     "iopub.status.busy": "2021-06-22T20:10:53.232675Z",
     "iopub.status.idle": "2021-06-22T20:11:01.486841Z",
     "shell.execute_reply": "2021-06-22T20:11:01.487566Z",
     "shell.execute_reply.started": "2021-06-22T19:06:43.597648Z"
    },
    "id": "coordinate-vegetable",
    "papermill": {
     "duration": 8.32949,
     "end_time": "2021-06-22T20:11:01.487788",
     "exception": false,
     "start_time": "2021-06-22T20:10:53.158298",
     "status": "completed"
    },
    "tags": []
   },
   "outputs": [],
   "source": [
    "# Standard python libraries\n",
    "import os\n",
    "import time\n",
    "\n",
    "# Essential DS libraries\n",
    "import numpy as np\n",
    "import pandas as pd\n",
    "from sklearn.metrics import f1_score, precision_recall_fscore_support,r2_score\n",
    "from sklearn.model_selection import train_test_split\n",
    "import torch\n",
    "\n",
    "# LightAutoML presets, task and report generation\n",
    "from lightautoml.automl.presets.tabular_presets import TabularAutoML, TabularUtilizedAutoML\n",
    "from lightautoml.tasks import Task\n",
    "from lightautoml.report.report_deco import ReportDeco"
   ]
  },
  {
   "cell_type": "code",
   "execution_count": 21,
   "metadata": {
    "id": "ZzqQRmb_WRi1"
   },
   "outputs": [],
   "source": [
    "import matplotlib.pyplot as plt\n"
   ]
  },
  {
   "cell_type": "markdown",
   "metadata": {
    "id": "defined-jewel",
    "papermill": {
     "duration": 0.064234,
     "end_time": "2021-06-22T20:11:01.619010",
     "exception": false,
     "start_time": "2021-06-22T20:11:01.554776",
     "status": "completed"
    },
    "tags": []
   },
   "source": [
    "# Step 0.2. Установим константы текущего сеанса\n",
    "\n",
    "Для этой работы берем:\n",
    "- `N_THREADS` - число  vCPU для создания LightAutoML \n",
    "- `N_FOLDS` - число фолдов для LightAutoML CV\n",
    "- `RANDOM_STATE` - для повторяемости\n",
    "- `TEST_SIZE` - размер отложенной выборки \n",
    "- `TIMEOUT` - Лимит времени для обучения\n",
    "- `TARGET_NAME` - имя целевого свойства"
   ]
  },
  {
   "cell_type": "code",
   "execution_count": 34,
   "metadata": {
    "execution": {
     "iopub.execute_input": "2021-06-22T20:11:01.758476Z",
     "iopub.status.busy": "2021-06-22T20:11:01.757403Z",
     "iopub.status.idle": "2021-06-22T20:11:01.760870Z",
     "shell.execute_reply": "2021-06-22T20:11:01.760168Z",
     "shell.execute_reply.started": "2021-06-22T19:06:51.523697Z"
    },
    "id": "ordered-remainder",
    "papermill": {
     "duration": 0.077787,
     "end_time": "2021-06-22T20:11:01.761030",
     "exception": false,
     "start_time": "2021-06-22T20:11:01.683243",
     "status": "completed"
    },
    "tags": []
   },
   "outputs": [],
   "source": [
    "N_THREADS = 6\n",
    "N_FOLDS = 3\n",
    "RANDOM_STATE = 42\n",
    "TEST_SIZE = 0.2\n",
    "TIMEOUT = 2 * 360\n",
    "TARGET_NAME = 'price'"
   ]
  },
  {
   "cell_type": "markdown",
   "metadata": {
    "id": "digital-india",
    "papermill": {
     "duration": 0.086481,
     "end_time": "2021-06-22T20:11:01.927314",
     "exception": false,
     "start_time": "2021-06-22T20:11:01.840833",
     "status": "completed"
    },
    "tags": []
   },
   "source": [
    "# Step 0.3. Imported models setup\n",
    "\n",
    "For better reproducibility we fix numpy random seed with max number of threads for Torch (which usually try to use all the threads on server):"
   ]
  },
  {
   "cell_type": "code",
   "execution_count": 5,
   "metadata": {
    "execution": {
     "iopub.execute_input": "2021-06-22T20:11:02.089551Z",
     "iopub.status.busy": "2021-06-22T20:11:02.088530Z",
     "iopub.status.idle": "2021-06-22T20:11:02.092262Z",
     "shell.execute_reply": "2021-06-22T20:11:02.091429Z",
     "shell.execute_reply.started": "2021-06-22T19:06:51.531710Z"
    },
    "id": "planned-prescription",
    "papermill": {
     "duration": 0.087268,
     "end_time": "2021-06-22T20:11:02.092497",
     "exception": false,
     "start_time": "2021-06-22T20:11:02.005229",
     "status": "completed"
    },
    "tags": []
   },
   "outputs": [],
   "source": [
    "np.random.seed(RANDOM_STATE)\n",
    "torch.set_num_threads(N_THREADS)"
   ]
  },
  {
   "cell_type": "markdown",
   "metadata": {
    "id": "unnecessary-explorer",
    "papermill": {
     "duration": 0.072033,
     "end_time": "2021-06-22T20:11:02.238196",
     "exception": false,
     "start_time": "2021-06-22T20:11:02.166163",
     "status": "completed"
    },
    "tags": []
   },
   "source": [
    "# Step 0.4. Data loading\n",
    "Let's check the data we have:"
   ]
  },
  {
   "cell_type": "code",
   "execution_count": 28,
   "metadata": {
    "colab": {
     "base_uri": "https://localhost:8080/"
    },
    "id": "oH9leiYzxmCF",
    "outputId": "e8b185bc-c373-4401-b7bf-23d588b7a1c6"
   },
   "outputs": [
    {
     "name": "stdout",
     "output_type": "stream",
     "text": [
      "Mounted at /gdrive\n"
     ]
    }
   ],
   "source": [
    "from google.colab import drive\n",
    "drive.mount('/gdrive')\n"
   ]
  },
  {
   "cell_type": "code",
   "execution_count": 31,
   "metadata": {
    "id": "c4D0S2wMxunV"
   },
   "outputs": [],
   "source": [
    "path ='/gdrive/MyDrive/2_ver_actual Артем Зраев. 10.2020/Lection7/'"
   ]
  },
  {
   "cell_type": "code",
   "execution_count": 35,
   "metadata": {
    "colab": {
     "base_uri": "https://localhost:8080/"
    },
    "execution": {
     "iopub.execute_input": "2021-06-22T20:11:02.386568Z",
     "iopub.status.busy": "2021-06-22T20:11:02.385526Z",
     "iopub.status.idle": "2021-06-22T20:11:15.017602Z",
     "shell.execute_reply": "2021-06-22T20:11:15.018159Z",
     "shell.execute_reply.started": "2021-06-22T19:06:51.545269Z"
    },
    "id": "occupational-feature",
    "outputId": "4419b447-ef40-4a5e-ce53-3ebf3f3416b1",
    "papermill": {
     "duration": 12.710747,
     "end_time": "2021-06-22T20:11:15.018360",
     "exception": false,
     "start_time": "2021-06-22T20:11:02.307613",
     "status": "completed"
    },
    "scrolled": true,
    "tags": []
   },
   "outputs": [
    {
     "name": "stdout",
     "output_type": "stream",
     "text": [
      "CPU times: user 46.6 ms, sys: 4.05 ms, total: 50.7 ms\n",
      "Wall time: 57.1 ms\n"
     ]
    }
   ],
   "source": [
    "%%time\n",
    "\n",
    "train_data = pd.read_csv(path + \"kc_house_data.csv\")\n",
    "train_data.head()"
   ]
  },
  {
   "cell_type": "code",
   "execution_count": 36,
   "metadata": {
    "colab": {
     "base_uri": "https://localhost:8080/"
    },
    "execution": {
     "iopub.execute_input": "2021-06-22T20:11:15.156732Z",
     "iopub.status.busy": "2021-06-22T20:11:15.155742Z",
     "iopub.status.idle": "2021-06-22T20:11:15.161262Z",
     "shell.execute_reply": "2021-06-22T20:11:15.160484Z",
     "shell.execute_reply.started": "2021-06-22T19:07:02.444518Z"
    },
    "id": "postal-shopping",
    "outputId": "c4da29b4-81d2-4b4f-941c-42663b7d99bc",
    "papermill": {
     "duration": 0.077509,
     "end_time": "2021-06-22T20:11:15.161419",
     "exception": false,
     "start_time": "2021-06-22T20:11:15.083910",
     "status": "completed"
    },
    "tags": []
   },
   "outputs": [
    {
     "name": "stdout",
     "output_type": "stream",
     "text": [
      "<class 'pandas.core.frame.DataFrame'>\n",
      "RangeIndex: 21613 entries, 0 to 21612\n",
      "Data columns (total 21 columns):\n",
      " #   Column         Non-Null Count  Dtype  \n",
      "---  ------         --------------  -----  \n",
      " 0   id             21613 non-null  int64  \n",
      " 1   date           21613 non-null  object \n",
      " 2   price          21613 non-null  float64\n",
      " 3   bedrooms       21613 non-null  int64  \n",
      " 4   bathrooms      21613 non-null  float64\n",
      " 5   sqft_living    21613 non-null  int64  \n",
      " 6   sqft_lot       21613 non-null  int64  \n",
      " 7   floors         21613 non-null  float64\n",
      " 8   waterfront     21613 non-null  int64  \n",
      " 9   view           21613 non-null  int64  \n",
      " 10  condition      21613 non-null  int64  \n",
      " 11  grade          21613 non-null  int64  \n",
      " 12  sqft_above     21613 non-null  int64  \n",
      " 13  sqft_basement  21613 non-null  int64  \n",
      " 14  yr_built       21613 non-null  int64  \n",
      " 15  yr_renovated   21613 non-null  int64  \n",
      " 16  zipcode        21613 non-null  int64  \n",
      " 17  lat            21613 non-null  float64\n",
      " 18  long           21613 non-null  float64\n",
      " 19  sqft_living15  21613 non-null  int64  \n",
      " 20  sqft_lot15     21613 non-null  int64  \n",
      "dtypes: float64(5), int64(15), object(1)\n",
      "memory usage: 3.5+ MB\n"
     ]
    }
   ],
   "source": [
    "train_data.info()"
   ]
  },
  {
   "cell_type": "code",
   "execution_count": 9,
   "metadata": {
    "id": "C5yLrTor-I4H"
   },
   "outputs": [],
   "source": []
  },
  {
   "cell_type": "markdown",
   "metadata": {
    "id": "indie-discrimination",
    "papermill": {
     "duration": 0.065323,
     "end_time": "2021-06-22T20:11:21.676311",
     "exception": false,
     "start_time": "2021-06-22T20:11:21.610988",
     "status": "completed"
    },
    "tags": []
   },
   "source": [
    "# Step 0.5. Data splitting for train-holdout\n",
    "As we have only one file with target values, we can split it into 80%-20% for holdout usage:"
   ]
  },
  {
   "cell_type": "code",
   "execution_count": 37,
   "metadata": {
    "colab": {
     "base_uri": "https://localhost:8080/"
    },
    "execution": {
     "iopub.execute_input": "2021-06-22T20:11:21.814622Z",
     "iopub.status.busy": "2021-06-22T20:11:21.813630Z",
     "iopub.status.idle": "2021-06-22T20:11:22.537639Z",
     "shell.execute_reply": "2021-06-22T20:11:22.537037Z",
     "shell.execute_reply.started": "2021-06-22T19:07:07.916060Z"
    },
    "id": "stable-egypt",
    "outputId": "4dad0fd6-fb2d-4263-d2d3-1a1ef3929d81",
    "papermill": {
     "duration": 0.793619,
     "end_time": "2021-06-22T20:11:22.537798",
     "exception": false,
     "start_time": "2021-06-22T20:11:21.744179",
     "status": "completed"
    },
    "tags": []
   },
   "outputs": [
    {
     "name": "stdout",
     "output_type": "stream",
     "text": [
      "Data splitted. Parts sizes: tr_data = (17290, 21), te_data = (4323, 21)\n",
      "CPU times: user 11.3 ms, sys: 0 ns, total: 11.3 ms\n",
      "Wall time: 12.1 ms\n"
     ]
    }
   ],
   "source": [
    "%%time\n",
    "\n",
    "tr_data, te_data = train_test_split(train_data, \n",
    "                                    test_size=TEST_SIZE, \n",
    "                                    #stratify=train_data[TARGET_NAME], \n",
    "                                    random_state=RANDOM_STATE)\n",
    "print('Data splitted. Parts sizes: tr_data = {}, te_data = {}'.format(tr_data.shape, te_data.shape))"
   ]
  },
  {
   "cell_type": "code",
   "execution_count": 38,
   "metadata": {
    "colab": {
     "base_uri": "https://localhost:8080/",
     "height": 224
    },
    "execution": {
     "iopub.execute_input": "2021-06-22T20:11:22.701718Z",
     "iopub.status.busy": "2021-06-22T20:11:22.701039Z",
     "iopub.status.idle": "2021-06-22T20:11:22.705866Z",
     "shell.execute_reply": "2021-06-22T20:11:22.705337Z",
     "shell.execute_reply.started": "2021-06-22T19:07:08.623339Z"
    },
    "id": "nasty-launch",
    "outputId": "bfadecb0-0f42-4ef2-9925-8ddd16d7cc5c",
    "papermill": {
     "duration": 0.099875,
     "end_time": "2021-06-22T20:11:22.706015",
     "exception": false,
     "start_time": "2021-06-22T20:11:22.606140",
     "status": "completed"
    },
    "tags": []
   },
   "outputs": [
    {
     "data": {
      "text/html": [
       "<div>\n",
       "<style scoped>\n",
       "    .dataframe tbody tr th:only-of-type {\n",
       "        vertical-align: middle;\n",
       "    }\n",
       "\n",
       "    .dataframe tbody tr th {\n",
       "        vertical-align: top;\n",
       "    }\n",
       "\n",
       "    .dataframe thead th {\n",
       "        text-align: right;\n",
       "    }\n",
       "</style>\n",
       "<table border=\"1\" class=\"dataframe\">\n",
       "  <thead>\n",
       "    <tr style=\"text-align: right;\">\n",
       "      <th></th>\n",
       "      <th>id</th>\n",
       "      <th>date</th>\n",
       "      <th>price</th>\n",
       "      <th>bedrooms</th>\n",
       "      <th>bathrooms</th>\n",
       "      <th>sqft_living</th>\n",
       "      <th>sqft_lot</th>\n",
       "      <th>floors</th>\n",
       "      <th>waterfront</th>\n",
       "      <th>view</th>\n",
       "      <th>condition</th>\n",
       "      <th>grade</th>\n",
       "      <th>sqft_above</th>\n",
       "      <th>sqft_basement</th>\n",
       "      <th>yr_built</th>\n",
       "      <th>yr_renovated</th>\n",
       "      <th>zipcode</th>\n",
       "      <th>lat</th>\n",
       "      <th>long</th>\n",
       "      <th>sqft_living15</th>\n",
       "      <th>sqft_lot15</th>\n",
       "    </tr>\n",
       "  </thead>\n",
       "  <tbody>\n",
       "    <tr>\n",
       "      <th>6325</th>\n",
       "      <td>5467910190</td>\n",
       "      <td>20140527T000000</td>\n",
       "      <td>325000.0</td>\n",
       "      <td>3</td>\n",
       "      <td>1.75</td>\n",
       "      <td>1780</td>\n",
       "      <td>13095</td>\n",
       "      <td>1.0</td>\n",
       "      <td>0</td>\n",
       "      <td>0</td>\n",
       "      <td>4</td>\n",
       "      <td>9</td>\n",
       "      <td>1780</td>\n",
       "      <td>0</td>\n",
       "      <td>1983</td>\n",
       "      <td>0</td>\n",
       "      <td>98042</td>\n",
       "      <td>47.3670</td>\n",
       "      <td>-122.152</td>\n",
       "      <td>2750</td>\n",
       "      <td>13095</td>\n",
       "    </tr>\n",
       "    <tr>\n",
       "      <th>13473</th>\n",
       "      <td>9331800580</td>\n",
       "      <td>20150310T000000</td>\n",
       "      <td>257000.0</td>\n",
       "      <td>2</td>\n",
       "      <td>1.00</td>\n",
       "      <td>1000</td>\n",
       "      <td>3700</td>\n",
       "      <td>1.0</td>\n",
       "      <td>0</td>\n",
       "      <td>0</td>\n",
       "      <td>3</td>\n",
       "      <td>6</td>\n",
       "      <td>800</td>\n",
       "      <td>200</td>\n",
       "      <td>1929</td>\n",
       "      <td>0</td>\n",
       "      <td>98118</td>\n",
       "      <td>47.5520</td>\n",
       "      <td>-122.290</td>\n",
       "      <td>1270</td>\n",
       "      <td>5000</td>\n",
       "    </tr>\n",
       "    <tr>\n",
       "      <th>17614</th>\n",
       "      <td>2407000405</td>\n",
       "      <td>20150226T000000</td>\n",
       "      <td>228500.0</td>\n",
       "      <td>3</td>\n",
       "      <td>1.00</td>\n",
       "      <td>1080</td>\n",
       "      <td>7486</td>\n",
       "      <td>1.5</td>\n",
       "      <td>0</td>\n",
       "      <td>0</td>\n",
       "      <td>3</td>\n",
       "      <td>6</td>\n",
       "      <td>990</td>\n",
       "      <td>90</td>\n",
       "      <td>1942</td>\n",
       "      <td>0</td>\n",
       "      <td>98146</td>\n",
       "      <td>47.4838</td>\n",
       "      <td>-122.335</td>\n",
       "      <td>1170</td>\n",
       "      <td>7800</td>\n",
       "    </tr>\n",
       "    <tr>\n",
       "      <th>16970</th>\n",
       "      <td>5466700290</td>\n",
       "      <td>20150108T000000</td>\n",
       "      <td>288000.0</td>\n",
       "      <td>3</td>\n",
       "      <td>2.25</td>\n",
       "      <td>2090</td>\n",
       "      <td>7500</td>\n",
       "      <td>1.0</td>\n",
       "      <td>0</td>\n",
       "      <td>0</td>\n",
       "      <td>4</td>\n",
       "      <td>7</td>\n",
       "      <td>1280</td>\n",
       "      <td>810</td>\n",
       "      <td>1977</td>\n",
       "      <td>0</td>\n",
       "      <td>98031</td>\n",
       "      <td>47.3951</td>\n",
       "      <td>-122.172</td>\n",
       "      <td>1800</td>\n",
       "      <td>7350</td>\n",
       "    </tr>\n",
       "    <tr>\n",
       "      <th>20868</th>\n",
       "      <td>3026059361</td>\n",
       "      <td>20150417T000000</td>\n",
       "      <td>479000.0</td>\n",
       "      <td>2</td>\n",
       "      <td>2.50</td>\n",
       "      <td>1741</td>\n",
       "      <td>1439</td>\n",
       "      <td>2.0</td>\n",
       "      <td>0</td>\n",
       "      <td>0</td>\n",
       "      <td>3</td>\n",
       "      <td>8</td>\n",
       "      <td>1446</td>\n",
       "      <td>295</td>\n",
       "      <td>2007</td>\n",
       "      <td>0</td>\n",
       "      <td>98034</td>\n",
       "      <td>47.7043</td>\n",
       "      <td>-122.209</td>\n",
       "      <td>2090</td>\n",
       "      <td>10454</td>\n",
       "    </tr>\n",
       "  </tbody>\n",
       "</table>\n",
       "</div>"
      ],
      "text/plain": [
       "               id             date  ...  sqft_living15  sqft_lot15\n",
       "6325   5467910190  20140527T000000  ...           2750       13095\n",
       "13473  9331800580  20150310T000000  ...           1270        5000\n",
       "17614  2407000405  20150226T000000  ...           1170        7800\n",
       "16970  5466700290  20150108T000000  ...           1800        7350\n",
       "20868  3026059361  20150417T000000  ...           2090       10454\n",
       "\n",
       "[5 rows x 21 columns]"
      ]
     },
     "execution_count": 38,
     "metadata": {
      "tags": []
     },
     "output_type": "execute_result"
    }
   ],
   "source": [
    "tr_data.head()"
   ]
  },
  {
   "cell_type": "markdown",
   "metadata": {
    "id": "undefined-anchor",
    "papermill": {
     "duration": 0.071526,
     "end_time": "2021-06-22T20:11:22.853156",
     "exception": false,
     "start_time": "2021-06-22T20:11:22.781630",
     "status": "completed"
    },
    "tags": []
   },
   "source": [
    "# =============== LightAutoML model building ===============\n",
    "\n",
    "\n",
    "# Step 1. Task setup\n",
    "\n",
    "On the cell below we create Task object - the class to setup what task LightAutoML model should solve with specific loss and metric if necessary (more info can be found [here](https://lightautoml.readthedocs.io/en/latest/generated/lightautoml.tasks.base.Task.html#lightautoml.tasks.base.Task) in our documentation):"
   ]
  },
  {
   "cell_type": "code",
   "execution_count": 12,
   "metadata": {
    "colab": {
     "base_uri": "https://localhost:8080/"
    },
    "execution": {
     "iopub.execute_input": "2021-06-22T20:11:23.005952Z",
     "iopub.status.busy": "2021-06-22T20:11:23.002234Z",
     "iopub.status.idle": "2021-06-22T20:11:23.009732Z",
     "shell.execute_reply": "2021-06-22T20:11:23.010398Z",
     "shell.execute_reply.started": "2021-06-22T19:07:08.656347Z"
    },
    "id": "instant-forge",
    "outputId": "28936361-1169-4c4a-c78c-826530b1736c",
    "papermill": {
     "duration": 0.086442,
     "end_time": "2021-06-22T20:11:23.010643",
     "exception": false,
     "start_time": "2021-06-22T20:11:22.924201",
     "status": "completed"
    },
    "tags": []
   },
   "outputs": [
    {
     "name": "stdout",
     "output_type": "stream",
     "text": [
      "CPU times: user 2.53 ms, sys: 0 ns, total: 2.53 ms\n",
      "Wall time: 3.86 ms\n"
     ]
    }
   ],
   "source": [
    "%%time\n",
    "\n",
    "task = Task('reg',  metric='mae' )"
   ]
  },
  {
   "cell_type": "markdown",
   "metadata": {
    "id": "subtle-senate",
    "papermill": {
     "duration": 0.070103,
     "end_time": "2021-06-22T20:11:23.150929",
     "exception": false,
     "start_time": "2021-06-22T20:11:23.080826",
     "status": "completed"
    },
    "tags": []
   },
   "source": [
    "# Step 2. Feature roles setup"
   ]
  },
  {
   "cell_type": "markdown",
   "metadata": {
    "id": "charitable-brunei",
    "papermill": {
     "duration": 0.069372,
     "end_time": "2021-06-22T20:11:23.290153",
     "exception": false,
     "start_time": "2021-06-22T20:11:23.220781",
     "status": "completed"
    },
    "tags": []
   },
   "source": [
    "To solve the task, we need to setup columns roles. The **only role you must setup is target role**, everything else (drop, numeric, categorical, group, weights etc.) is up to user - LightAutoML models have automatic columns typization inside:"
   ]
  },
  {
   "cell_type": "code",
   "execution_count": 39,
   "metadata": {
    "colab": {
     "base_uri": "https://localhost:8080/"
    },
    "execution": {
     "iopub.execute_input": "2021-06-22T20:11:23.434600Z",
     "iopub.status.busy": "2021-06-22T20:11:23.433707Z",
     "iopub.status.idle": "2021-06-22T20:11:23.438088Z",
     "shell.execute_reply": "2021-06-22T20:11:23.438653Z",
     "shell.execute_reply.started": "2021-06-22T19:07:08.673897Z"
    },
    "id": "complete-planner",
    "outputId": "9562fbe2-eb50-4f12-f3c4-6ef611233965",
    "papermill": {
     "duration": 0.07715,
     "end_time": "2021-06-22T20:11:23.438830",
     "exception": false,
     "start_time": "2021-06-22T20:11:23.361680",
     "status": "completed"
    },
    "tags": []
   },
   "outputs": [
    {
     "name": "stdout",
     "output_type": "stream",
     "text": [
      "CPU times: user 7 µs, sys: 0 ns, total: 7 µs\n",
      "Wall time: 13.6 µs\n"
     ]
    }
   ],
   "source": [
    "%%time\n",
    "\n",
    "roles = {'target': TARGET_NAME,\n",
    "         'drop': ['zipcode','id','date']\n",
    "         }"
   ]
  },
  {
   "cell_type": "markdown",
   "metadata": {
    "id": "correct-defensive",
    "papermill": {
     "duration": 0.074284,
     "end_time": "2021-06-22T20:11:23.582462",
     "exception": false,
     "start_time": "2021-06-22T20:11:23.508178",
     "status": "completed"
    },
    "tags": []
   },
   "source": [
    "# Step 3. LightAutoML model creation - TabularAutoML preset"
   ]
  },
  {
   "cell_type": "markdown",
   "metadata": {
    "id": "neutral-lancaster",
    "papermill": {
     "duration": 0.072649,
     "end_time": "2021-06-22T20:11:23.726154",
     "exception": false,
     "start_time": "2021-06-22T20:11:23.653505",
     "status": "completed"
    },
    "tags": []
   },
   "source": [
    "`TabularAutoML` класс для обучения табличных моделей :\n",
    "\n",
    "<img src=\"https://github.com/sberbank-ai-lab/lightautoml-datafest-workshop/raw/master/imgs/tutorial_blackbox_pipeline.png\" alt=\"TabularAutoML preset pipeline\" style=\"width:70%;\"/>\n",
    "\n",
    "Параметры:\n",
    "- `task` - тип ML tзадачи (нужен обязательно **must have** )\n",
    "- `timeout` - лимит времени на решение\n",
    "- `cpu_limit` - vCPU число вычислителей на задачу\n",
    "- `reader_params` - параметры для чтения объектов н=и этапа их процессинга: типизация, предварительные обработки,  CV установки. Например: `n_jobs` потоки для алгоритма , `cv` число фолдов и т.п..\n",
    "- `general_params` - 'use_algos' указания для алгоритмов в составе модели.\n",
    "\n",
    "**Important note**: `TabularAutoML` preset. [More details](https://github.com/sberbank-ai-lab/LightAutoML/blob/master/lightautoml/automl/presets/tabular_config.yml) \n",
    "\n",
    "`general_params->use_algos`)  [article on TowardsDataScience](https://towardsdatascience.com/lightautoml-preset-usage-tutorial-2cce7da6f936).\n",
    " "
   ]
  },
  {
   "cell_type": "code",
   "execution_count": 40,
   "metadata": {
    "_kg_hide-output": true,
    "colab": {
     "base_uri": "https://localhost:8080/"
    },
    "execution": {
     "iopub.execute_input": "2021-06-22T20:11:23.898451Z",
     "iopub.status.busy": "2021-06-22T20:11:23.882755Z",
     "iopub.status.idle": "2021-06-22T20:28:33.962394Z",
     "shell.execute_reply": "2021-06-22T20:28:33.962995Z",
     "shell.execute_reply.started": "2021-06-22T19:07:31.468238Z"
    },
    "id": "essential-precipitation",
    "outputId": "87a1d456-aab7-4f2c-cb76-9578db2216e0",
    "papermill": {
     "duration": 1030.159528,
     "end_time": "2021-06-22T20:28:33.963476",
     "exception": false,
     "start_time": "2021-06-22T20:11:23.803948",
     "status": "completed"
    },
    "scrolled": true,
    "tags": []
   },
   "outputs": [
    {
     "name": "stdout",
     "output_type": "stream",
     "text": [
      "Start automl preset with listed constraints:\n",
      "- time: 720 seconds\n",
      "- cpus: 6 cores\n",
      "- memory: 16 gb\n",
      "\n",
      "Train data shape: (17290, 21)\n",
      "Feats was rejected during automatic roles guess: []\n",
      "\n",
      "\n",
      "Layer 1 ...\n",
      "Train process start. Time left 709.0545454025269 secs\n",
      "Start fitting Lvl_0_Pipe_0_Mod_0_LinearL2 ...\n",
      "\n",
      "===== Start working with fold 0 for Lvl_0_Pipe_0_Mod_0_LinearL2 =====\n",
      "\n",
      "Linear model: C = 1e-05 score = -142956.118342297\n",
      "Linear model: C = 5e-05 score = -127239.51749002429\n",
      "Linear model: C = 0.0001 score = -126970.45699058814\n",
      "Linear model: C = 0.0005 score = -128770.0100407703\n",
      "Linear model: C = 0.001 score = -128770.0210248959\n",
      "\n",
      "===== Start working with fold 1 for Lvl_0_Pipe_0_Mod_0_LinearL2 =====\n",
      "\n",
      "Linear model: C = 1e-05 score = -143950.24369902827\n",
      "Linear model: C = 5e-05 score = -125977.4902611487\n",
      "Linear model: C = 0.0001 score = -125497.41418315114\n",
      "Linear model: C = 0.0005 score = -125497.41926405518\n",
      "Linear model: C = 0.001 score = -127517.39615326219\n",
      "\n",
      "===== Start working with fold 2 for Lvl_0_Pipe_0_Mod_0_LinearL2 =====\n",
      "\n",
      "Linear model: C = 1e-05 score = -142835.09219915842\n",
      "Linear model: C = 5e-05 score = -127786.80196403783\n",
      "Linear model: C = 0.0001 score = -127786.80571642374\n",
      "Linear model: C = 0.0005 score = -128815.385378709\n",
      "Lvl_0_Pipe_0_Mod_0_LinearL2 fitting and predicting completed\n",
      "Time left 707.9884366989136\n",
      "Start fitting Selector_LightGBM ...\n",
      "\n",
      "===== Start working with fold 0 for Selector_LightGBM =====\n",
      "\n",
      "Training until validation scores don't improve for 200 rounds\n",
      "[100]\tvalid's l1: 86988.4\n",
      "[200]\tvalid's l1: 71200\n",
      "[300]\tvalid's l1: 67937.5\n",
      "[400]\tvalid's l1: 66741.4\n",
      "[500]\tvalid's l1: 66066.7\n",
      "[600]\tvalid's l1: 65669.7\n",
      "[700]\tvalid's l1: 65438.5\n",
      "[800]\tvalid's l1: 65219.6\n",
      "[900]\tvalid's l1: 65053.9\n",
      "[1000]\tvalid's l1: 64870\n",
      "[1100]\tvalid's l1: 64791.7\n",
      "[1200]\tvalid's l1: 64640.5\n",
      "[1300]\tvalid's l1: 64557.4\n",
      "[1400]\tvalid's l1: 64502.7\n",
      "[1500]\tvalid's l1: 64436\n",
      "[1600]\tvalid's l1: 64374.6\n",
      "[1700]\tvalid's l1: 64305.7\n",
      "[1800]\tvalid's l1: 64274.4\n",
      "[1900]\tvalid's l1: 64260.1\n",
      "[2000]\tvalid's l1: 64261.7\n",
      "[2100]\tvalid's l1: 64267.3\n",
      "Early stopping, best iteration is:\n",
      "[1940]\tvalid's l1: 64251.8\n",
      "Selector_LightGBM fitting and predicting completed\n",
      "Start fitting Lvl_0_Pipe_1_Mod_0_LightGBM ...\n",
      "\n",
      "===== Start working with fold 0 for Lvl_0_Pipe_1_Mod_0_LightGBM =====\n",
      "\n",
      "Training until validation scores don't improve for 200 rounds\n",
      "[100]\tvalid's l1: 86880.3\n",
      "[200]\tvalid's l1: 71847\n",
      "[300]\tvalid's l1: 68759.4\n",
      "[400]\tvalid's l1: 67730.4\n",
      "[500]\tvalid's l1: 67278.4\n",
      "[600]\tvalid's l1: 66977.9\n",
      "[700]\tvalid's l1: 66846.8\n",
      "[800]\tvalid's l1: 66697.6\n",
      "[900]\tvalid's l1: 66578.4\n",
      "[1000]\tvalid's l1: 66535.7\n",
      "[1100]\tvalid's l1: 66455.1\n",
      "[1200]\tvalid's l1: 66349.8\n",
      "[1300]\tvalid's l1: 66311.3\n",
      "[1400]\tvalid's l1: 66266.9\n",
      "[1500]\tvalid's l1: 66218.6\n",
      "[1600]\tvalid's l1: 66199.5\n",
      "[1700]\tvalid's l1: 66192.1\n",
      "[1800]\tvalid's l1: 66132.1\n",
      "[1900]\tvalid's l1: 66125.4\n",
      "[2000]\tvalid's l1: 66086.7\n",
      "[2100]\tvalid's l1: 66059.7\n",
      "[2200]\tvalid's l1: 66059.3\n",
      "[2300]\tvalid's l1: 66059.2\n",
      "[2400]\tvalid's l1: 66097.1\n",
      "Early stopping, best iteration is:\n",
      "[2248]\tvalid's l1: 66052.9\n",
      "\n",
      "===== Start working with fold 1 for Lvl_0_Pipe_1_Mod_0_LightGBM =====\n",
      "\n",
      "Training until validation scores don't improve for 200 rounds\n",
      "[100]\tvalid's l1: 88351.8\n",
      "[200]\tvalid's l1: 73652.2\n",
      "[300]\tvalid's l1: 70825.2\n",
      "[400]\tvalid's l1: 69982.4\n",
      "[500]\tvalid's l1: 69537\n",
      "[600]\tvalid's l1: 69261.4\n",
      "[700]\tvalid's l1: 69012.4\n",
      "[800]\tvalid's l1: 68893.8\n",
      "[900]\tvalid's l1: 68736.1\n",
      "[1000]\tvalid's l1: 68703.3\n",
      "[1100]\tvalid's l1: 68604.3\n",
      "[1200]\tvalid's l1: 68563.5\n",
      "[1300]\tvalid's l1: 68492.8\n",
      "[1400]\tvalid's l1: 68480.4\n",
      "[1500]\tvalid's l1: 68460.4\n",
      "[1600]\tvalid's l1: 68432.5\n",
      "[1700]\tvalid's l1: 68412.8\n",
      "[1800]\tvalid's l1: 68432.1\n",
      "[1900]\tvalid's l1: 68413.9\n",
      "[2000]\tvalid's l1: 68385.5\n",
      "[2100]\tvalid's l1: 68378.6\n",
      "[2200]\tvalid's l1: 68399\n",
      "[2300]\tvalid's l1: 68405.5\n",
      "Early stopping, best iteration is:\n",
      "[2119]\tvalid's l1: 68364.8\n",
      "\n",
      "===== Start working with fold 2 for Lvl_0_Pipe_1_Mod_0_LightGBM =====\n",
      "\n",
      "Training until validation scores don't improve for 200 rounds\n",
      "[100]\tvalid's l1: 85335.8\n",
      "[200]\tvalid's l1: 70243\n",
      "[300]\tvalid's l1: 67239\n",
      "[400]\tvalid's l1: 66407.2\n",
      "[500]\tvalid's l1: 66007.9\n",
      "[600]\tvalid's l1: 65707.8\n",
      "[700]\tvalid's l1: 65520.9\n",
      "[800]\tvalid's l1: 65288.8\n",
      "[900]\tvalid's l1: 65148.6\n",
      "[1000]\tvalid's l1: 65081.1\n",
      "[1100]\tvalid's l1: 64993.4\n",
      "[1200]\tvalid's l1: 64973.6\n",
      "[1300]\tvalid's l1: 64897.8\n",
      "[1400]\tvalid's l1: 64828.6\n",
      "[1500]\tvalid's l1: 64741.7\n",
      "[1600]\tvalid's l1: 64700.9\n",
      "[1700]\tvalid's l1: 64658.8\n",
      "[1800]\tvalid's l1: 64605.2\n",
      "[1900]\tvalid's l1: 64563.1\n",
      "[2000]\tvalid's l1: 64557.3\n",
      "[2100]\tvalid's l1: 64531.1\n",
      "[2200]\tvalid's l1: 64535\n",
      "[2300]\tvalid's l1: 64539\n",
      "[2400]\tvalid's l1: 64532\n",
      "[2500]\tvalid's l1: 64504.4\n",
      "[2600]\tvalid's l1: 64498\n",
      "[2700]\tvalid's l1: 64514.8\n",
      "[2800]\tvalid's l1: 64509.2\n",
      "Early stopping, best iteration is:\n",
      "[2646]\tvalid's l1: 64494.8\n",
      "Lvl_0_Pipe_1_Mod_0_LightGBM fitting and predicting completed\n",
      "Time left 655.6816825866699\n",
      "Blending: Optimization starts with equal weights and score -85578.40750185259\n",
      "Blending, iter 0: score = -66304.13323769158, weights = [0. 1.]\n",
      "Blending, iter 1: score = -66304.13323769158, weights = [0. 1.]\n",
      "No score update. Terminated\n",
      "\n",
      "Automl preset training completed in 64.35 seconds.\n",
      "oof_pred:\n",
      "array([[363994.25],\n",
      "       [244225.97],\n",
      "       [204263.19],\n",
      "       ...,\n",
      "       [502307.62],\n",
      "       [131499.56],\n",
      "       [363823.97]], dtype=float32)\n",
      "Shape = (17290, 1)\n",
      "CPU times: user 1min 49s, sys: 2.67 s, total: 1min 52s\n",
      "Wall time: 1min 12s\n"
     ]
    }
   ],
   "source": [
    "%%time \n",
    "\n",
    "automl = TabularAutoML(task = task, \n",
    "                       timeout = TIMEOUT,\n",
    "                       cpu_limit = N_THREADS,\n",
    "                       reader_params = {'n_jobs': N_THREADS, 'cv': N_FOLDS, 'random_state': RANDOM_STATE},\n",
    "                       general_params={'use_algos': [['linear_l2', 'lgb']]}\n",
    "                      )\n",
    "\n",
    "RD = ReportDeco(output_path = 'tabularAutoML_model_report')\n",
    "automl_rd = RD(automl)\n",
    "\n",
    "oof_pred = automl_rd.fit_predict(tr_data, roles = roles)\n",
    "print('oof_pred:\\n{}\\nShape = {}'.format(oof_pred, oof_pred.shape))"
   ]
  },
  {
   "cell_type": "markdown",
   "metadata": {
    "id": "capable-cheese",
    "papermill": {
     "duration": 0.113545,
     "end_time": "2021-06-22T20:28:34.191432",
     "exception": false,
     "start_time": "2021-06-22T20:28:34.077887",
     "status": "completed"
    },
    "tags": []
   },
   "source": [
    "# Step 4. Feature importances calculation \n",
    "\n",
    "2 метода в LightAutoML:\n",
    "- Fast (`fast`) - по моделям.\n",
    "- Accurate (`accurate`) - более сложный *features permutation importances* .\n"
   ]
  },
  {
   "cell_type": "code",
   "execution_count": 41,
   "metadata": {
    "colab": {
     "base_uri": "https://localhost:8080/",
     "height": 404
    },
    "execution": {
     "iopub.execute_input": "2021-06-22T20:28:34.414531Z",
     "iopub.status.busy": "2021-06-22T20:28:34.413454Z",
     "iopub.status.idle": "2021-06-22T20:28:38.367856Z",
     "shell.execute_reply": "2021-06-22T20:28:38.366810Z",
     "shell.execute_reply.started": "2021-06-22T19:26:26.265606Z"
    },
    "id": "hungarian-organization",
    "outputId": "36d49f7c-3a33-4eb6-c2fa-893f719b2d1c",
    "papermill": {
     "duration": 4.063771,
     "end_time": "2021-06-22T20:28:38.368139",
     "exception": false,
     "start_time": "2021-06-22T20:28:34.304368",
     "status": "completed"
    },
    "tags": []
   },
   "outputs": [
    {
     "name": "stdout",
     "output_type": "stream",
     "text": [
      "CPU times: user 53.3 ms, sys: 2.98 ms, total: 56.3 ms\n",
      "Wall time: 59.6 ms\n"
     ]
    },
    {
     "data": {
      "image/png": "[encoded data removed]",
      "text/plain": [
       "<Figure size 2160x720 with 1 Axes>"
      ]
     },
     "metadata": {
      "tags": []
     },
     "output_type": "display_data"
    }
   ],
   "source": [
    "%%time\n",
    "\n",
    "# Fast feature importances calculation\n",
    "fast_fi = automl_rd.model.get_feature_scores('fast')\n",
    "fast_fi.set_index('Feature')['Importance'].plot.bar(figsize = (30, 10), grid = True)"
   ]
  },
  {
   "cell_type": "code",
   "execution_count": 42,
   "metadata": {
    "colab": {
     "base_uri": "https://localhost:8080/"
    },
    "execution": {
     "iopub.execute_input": "2021-06-22T20:28:38.699149Z",
     "iopub.status.busy": "2021-06-22T20:28:38.698457Z",
     "iopub.status.idle": "2021-06-22T20:28:38.703210Z",
     "shell.execute_reply": "2021-06-22T20:28:38.703677Z",
     "shell.execute_reply.started": "2021-06-22T19:26:39.273916Z"
    },
    "id": "intermediate-stewart",
    "outputId": "145a8896-a8a4-461a-d2a9-6a4e7d3ad666",
    "papermill": {
     "duration": 0.218737,
     "end_time": "2021-06-22T20:28:38.703962",
     "exception": false,
     "start_time": "2021-06-22T20:28:38.485225",
     "status": "completed"
    },
    "tags": []
   },
   "outputs": [
    {
     "data": {
      "text/plain": [
       "17"
      ]
     },
     "execution_count": 42,
     "metadata": {
      "tags": []
     },
     "output_type": "execute_result"
    }
   ],
   "source": [
    "# Number of features used by LightAutoML model\n",
    "len(automl_rd.model.collect_used_feats())"
   ]
  },
  {
   "cell_type": "code",
   "execution_count": 43,
   "metadata": {
    "_kg_hide-output": true,
    "colab": {
     "base_uri": "https://localhost:8080/"
    },
    "execution": {
     "iopub.execute_input": "2021-06-22T20:28:38.933441Z",
     "iopub.status.busy": "2021-06-22T20:28:38.932755Z",
     "iopub.status.idle": "2021-06-22T20:34:28.353426Z",
     "shell.execute_reply": "2021-06-22T20:34:28.352437Z",
     "shell.execute_reply.started": "2021-06-22T19:28:38.090910Z"
    },
    "id": "collective-communist",
    "outputId": "db973b30-3633-48c2-d413-87ac9c14f025",
    "papermill": {
     "duration": 349.538712,
     "end_time": "2021-06-22T20:34:28.353655",
     "exception": false,
     "start_time": "2021-06-22T20:28:38.814943",
     "status": "completed"
    },
    "scrolled": true,
    "tags": []
   },
   "outputs": [
    {
     "name": "stdout",
     "output_type": "stream",
     "text": [
      "LightAutoML used 17 feats\n",
      "1/17 Calculated score for view: 4951.8607148\n",
      "2/17 Calculated score for grade: 38028.9536211\n",
      "3/17 Calculated score for sqft_lot: 12343.3084922\n",
      "4/17 Calculated score for sqft_living: 45256.5146729\n",
      "5/17 Calculated score for sqft_living15: 6060.1243984\n",
      "6/17 Calculated score for sqft_basement: 399.8794766\n",
      "7/17 Calculated score for bedrooms: 494.7655547\n",
      "8/17 Calculated score for bathrooms: 1020.6532969\n",
      "9/17 Calculated score for long: 44040.8190000\n",
      "10/17 Calculated score for lat: 112655.4080801\n",
      "11/17 Calculated score for waterfront: 4408.9428242\n",
      "12/17 Calculated score for yr_built: 1527.9151953\n",
      "13/17 Calculated score for yr_renovated: 1452.8303359\n",
      "14/17 Calculated score for condition: 3568.9580820\n",
      "15/17 Calculated score for sqft_above: 4154.5962969\n",
      "16/17 Calculated score for sqft_lot15: 1231.7019609\n",
      "17/17 Calculated score for floors: 534.1207891\n",
      "CPU times: user 1min 11s, sys: 128 ms, total: 1min 11s\n",
      "Wall time: 37.2 s\n"
     ]
    }
   ],
   "source": [
    "%%time\n",
    "\n",
    "# Accurate feature importances calculation (Permutation importances) -  can take long time to calculate\n",
    "accurate_fi = automl_rd.model.get_feature_scores(   'accurate', te_data.sample(4000), silent = False)"
   ]
  },
  {
   "cell_type": "code",
   "execution_count": 45,
   "metadata": {
    "colab": {
     "base_uri": "https://localhost:8080/",
     "height": 371
    },
    "execution": {
     "iopub.execute_input": "2021-06-22T20:34:28.652337Z",
     "iopub.status.busy": "2021-06-22T20:34:28.651279Z",
     "iopub.status.idle": "2021-06-22T20:34:32.232484Z",
     "shell.execute_reply": "2021-06-22T20:34:32.231786Z",
     "shell.execute_reply.started": "2021-06-22T19:36:16.432532Z"
    },
    "id": "binary-tower",
    "outputId": "5b43ce4f-5296-47d6-864c-2f3f6d59e573",
    "papermill": {
     "duration": 3.739686,
     "end_time": "2021-06-22T20:34:32.232636",
     "exception": false,
     "start_time": "2021-06-22T20:34:28.492950",
     "status": "completed"
    },
    "tags": []
   },
   "outputs": [
    {
     "data": {
      "text/plain": [
       "<matplotlib.axes._subplots.AxesSubplot at 0x7f2cec54d410>"
      ]
     },
     "execution_count": 45,
     "metadata": {
      "tags": []
     },
     "output_type": "execute_result"
    },
    {
     "data": {
      "image/png": "[encoded data removed]",
      "text/plain": [
       "<Figure size 2160x720 with 1 Axes>"
      ]
     },
     "metadata": {
      "tags": []
     },
     "output_type": "display_data"
    }
   ],
   "source": [
    "accurate_fi.set_index('Feature')['Importance'].plot.bar(figsize = (30, 10), grid = True)"
   ]
  },
  {
   "cell_type": "markdown",
   "metadata": {
    "id": "auburn-verse",
    "papermill": {
     "duration": 0.145098,
     "end_time": "2021-06-22T20:34:32.530768",
     "exception": false,
     "start_time": "2021-06-22T20:34:32.385670",
     "status": "completed"
    },
    "tags": []
   },
   "source": [
    "# Step 5. Prediction on holdout and metric calculation"
   ]
  },
  {
   "cell_type": "code",
   "execution_count": 46,
   "metadata": {
    "colab": {
     "base_uri": "https://localhost:8080/"
    },
    "execution": {
     "iopub.execute_input": "2021-06-22T20:34:32.909392Z",
     "iopub.status.busy": "2021-06-22T20:34:32.850821Z",
     "iopub.status.idle": "2021-06-22T20:34:55.170012Z",
     "shell.execute_reply": "2021-06-22T20:34:55.170702Z",
     "shell.execute_reply.started": "2021-06-22T19:36:39.413930Z"
    },
    "id": "verified-guide",
    "outputId": "fe61a1f1-31aa-4597-d2d1-07c9cc141ea9",
    "papermill": {
     "duration": 22.483603,
     "end_time": "2021-06-22T20:34:55.170931",
     "exception": false,
     "start_time": "2021-06-22T20:34:32.687328",
     "status": "completed"
    },
    "tags": []
   },
   "outputs": [
    {
     "name": "stdout",
     "output_type": "stream",
     "text": [
      "Prediction for te_data:\n",
      "array([[ 376152.47],\n",
      "       [ 983245.75],\n",
      "       [1127021.6 ],\n",
      "       ...,\n",
      "       [ 303589.12],\n",
      "       [ 596179.94],\n",
      "       [ 331096.72]], dtype=float32)\n",
      "Shape = (4323, 1)\n",
      "CPU times: user 8.99 s, sys: 254 ms, total: 9.24 s\n",
      "Wall time: 6.94 s\n"
     ]
    }
   ],
   "source": [
    "%%time\n",
    "\n",
    "te_pred = automl_rd.predict(te_data)\n",
    "print('Prediction for te_data:\\n{}\\nShape = {}'\n",
    "              .format(te_pred, te_pred.shape))"
   ]
  },
  {
   "cell_type": "code",
   "execution_count": 47,
   "metadata": {
    "colab": {
     "base_uri": "https://localhost:8080/",
     "height": 314
    },
    "id": "-OYmCOQSYNn9",
    "outputId": "10962c71-85b7-4aa8-bbd8-28b5ac24772b"
   },
   "outputs": [
    {
     "data": {
      "image/png": "[encoded data removed]",
      "text/plain": [
       "<Figure size 432x288 with 1 Axes>"
      ]
     },
     "metadata": {
      "tags": []
     },
     "output_type": "display_data"
    }
   ],
   "source": [
    "N = 1000\n",
    "\n",
    "plt.plot(oof_pred.data[:N,0],tr_data[TARGET_NAME].values[:N],'.')\n",
    "plt.show()"
   ]
  },
  {
   "cell_type": "code",
   "execution_count": 60,
   "metadata": {
    "colab": {
     "base_uri": "https://localhost:8080/",
     "height": 314
    },
    "id": "hOP3pjvYYPSm",
    "outputId": "3166bef9-4398-4db7-bfe7-79170574f2fb"
   },
   "outputs": [
    {
     "data": {
      "image/png": "[encoded data removed]",
      "text/plain": [
       "<Figure size 432x288 with 1 Axes>"
      ]
     },
     "metadata": {
      "tags": []
     },
     "output_type": "display_data"
    }
   ],
   "source": [
    "N = 1000\n",
    "\n",
    "plt.plot(te_pred.data[:N,0],te_data[TARGET_NAME].values[:N],'.')\n",
    "plt.show()"
   ]
  },
  {
   "cell_type": "code",
   "execution_count": 49,
   "metadata": {
    "colab": {
     "base_uri": "https://localhost:8080/"
    },
    "execution": {
     "iopub.execute_input": "2021-06-22T20:34:55.470121Z",
     "iopub.status.busy": "2021-06-22T20:34:55.468938Z",
     "iopub.status.idle": "2021-06-22T20:34:55.629520Z",
     "shell.execute_reply": "2021-06-22T20:34:55.630295Z",
     "shell.execute_reply.started": "2021-06-22T19:37:24.055023Z"
    },
    "id": "stuffed-horizon",
    "outputId": "aa635bde-633a-4834-8725-aef4c7236d7a",
    "papermill": {
     "duration": 0.310292,
     "end_time": "2021-06-22T20:34:55.630539",
     "exception": false,
     "start_time": "2021-06-22T20:34:55.320247",
     "status": "completed"
    },
    "tags": []
   },
   "outputs": [
    {
     "name": "stdout",
     "output_type": "stream",
     "text": [
      "Check scores...\n",
      "OOF score: 0.8791243709105572\n",
      "HOLDOUT score: 0.874146873308994\n"
     ]
    }
   ],
   "source": [
    "r2_t = r2_score(tr_data[TARGET_NAME].values[:1000],oof_pred.data[:1000, 0] )\n",
    "r2_te = r2_score(te_data[TARGET_NAME].values, (te_pred.data[:, 0] ))\n",
    "print('Check scores...')\n",
    "print('OOF score: {}'.format(r2_t))\n",
    "print('HOLDOUT score: {}'.format(r2_te))"
   ]
  },
  {
   "cell_type": "markdown",
   "metadata": {
    "id": "controlled-sailing",
    "papermill": {
     "duration": 0.14221,
     "end_time": "2021-06-22T20:35:48.782561",
     "exception": false,
     "start_time": "2021-06-22T20:35:48.640351",
     "status": "completed"
    },
    "tags": []
   },
   "source": [
    "# Additional materials"
   ]
  },
  {
   "cell_type": "markdown",
   "metadata": {
    "id": "dried-processor",
    "papermill": {
     "duration": 0.147943,
     "end_time": "2021-06-22T20:35:49.074531",
     "exception": false,
     "start_time": "2021-06-22T20:35:48.926588",
     "status": "completed"
    },
    "tags": []
   },
   "source": [
    "- [Official LightAutoML github repo](https://github.com/sberbank-ai-lab/LightAutoML)\n",
    "- [LightAutoML documentation](https://lightautoml.readthedocs.io/en/latest)"
   ]
  },
  {
   "cell_type": "code",
   "execution_count": 52,
   "metadata": {
    "colab": {
     "base_uri": "https://localhost:8080/"
    },
    "id": "1jUhZEFJ0VL5",
    "outputId": "60e40992-cada-499c-b915-136da2264075"
   },
   "outputs": [
    {
     "data": {
      "text/plain": [
       "['view',\n",
       " 'grade',\n",
       " 'sqft_lot',\n",
       " 'sqft_living',\n",
       " 'sqft_living15',\n",
       " 'sqft_basement',\n",
       " 'bedrooms',\n",
       " 'bathrooms',\n",
       " 'long',\n",
       " 'lat',\n",
       " 'waterfront',\n",
       " 'yr_built',\n",
       " 'yr_renovated',\n",
       " 'condition',\n",
       " 'sqft_above',\n",
       " 'sqft_lot15',\n",
       " 'floors']"
      ]
     },
     "execution_count": 52,
     "metadata": {
      "tags": []
     },
     "output_type": "execute_result"
    }
   ],
   "source": [
    "automl_rd.model.collect_used_feats()"
   ]
  },
  {
   "cell_type": "code",
   "execution_count": 59,
   "metadata": {
    "colab": {
     "base_uri": "https://localhost:8080/"
    },
    "id": "j2nt7sZj0lHU",
    "outputId": "44f5ecf3-b321-4941-f2ac-7ddc1b0d419f"
   },
   "outputs": [
    {
     "data": {
      "text/plain": [
       "{'Lvl_0_Pipe_1_Mod_0_LightGBM': 3}"
      ]
     },
     "execution_count": 59,
     "metadata": {
      "tags": []
     },
     "output_type": "execute_result"
    }
   ],
   "source": [
    "automl_rd.model.collect_model_stats()"
   ]
  },
  {
   "cell_type": "code",
   "execution_count": null,
   "metadata": {
    "id": "PGU0nNoa04EH"
   },
   "outputs": [],
   "source": []
  }
 ],
 "metadata": {
  "colab": {
   "name": "lightautoml_lesson7.ipynb",
   "provenance": []
  },
  "kernelspec": {
   "display_name": "Python 3",
   "language": "python",
   "name": "python3"
  },
  "language_info": {
   "codemirror_mode": {
    "name": "ipython",
    "version": 3
   },
   "file_extension": ".py",
   "mimetype": "text/x-python",
   "name": "python",
   "nbconvert_exporter": "python",
   "pygments_lexer": "ipython3",
   "version": "3.8.5"
  },
  "papermill": {
   "default_parameters": {},
   "duration": 1531.539656,
   "end_time": "2021-06-22T20:35:52.076563",
   "environment_variables": {},
   "exception": null,
   "input_path": "__notebook__.ipynb",
   "output_path": "__notebook__.ipynb",
   "parameters": {},
   "start_time": "2021-06-22T20:10:20.536907",
   "version": "2.3.3"
  }
 },
 "nbformat": 4,
 "nbformat_minor": 5
}
