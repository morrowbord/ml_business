{
  "nbformat": 4,
  "nbformat_minor": 0,
  "metadata": {
    "kernelspec": {
      "display_name": "Python 3",
      "language": "python",
      "name": "python3"
    },
    "language_info": {
      "codemirror_mode": {
        "name": "ipython",
        "version": 3
      },
      "file_extension": ".py",
      "mimetype": "text/x-python",
      "name": "python",
      "nbconvert_exporter": "python",
      "pygments_lexer": "ipython3",
      "version": "3.7.1"
    },
    "colab": {
      "name": "webinar26_10_21.ipynb",
      "provenance": [],
      "include_colab_link": true
    }
  },
  "cells": [
    {
      "cell_type": "markdown",
      "metadata": {
        "id": "view-in-github",
        "colab_type": "text"
      },
      "source": [
        "<a href=\"https://colab.research.google.com/github/morrowbord/ml_business/blob/main/webinar26_10_21.ipynb\" target=\"_parent\"><img src=\"https://colab.research.google.com/assets/colab-badge.svg\" alt=\"Open In Colab\"/></a>"
      ]
    },
    {
      "cell_type": "markdown",
      "metadata": {
        "id": "4GdCNTduUTt7"
      },
      "source": [
        "### О чем курс и для кого"
      ]
    },
    {
      "cell_type": "markdown",
      "metadata": {
        "id": "NVkvFVmOUTuN"
      },
      "source": [
        "#Данный курс посвящен применению ML в бизнесе. Курс создан с целью ознакомления с прикладными задачами, в которых машинное обучение хорошо работает и приносит пользу в виде увеличения финансовых показателей либо улучшения (автоматизации) процессов в компании. В рамках курса будет рассмотрено несколько прикладных задач, таких как:\n",
        "\n",
        "- retargeting\n",
        "- lookalike\n",
        "- задача uplift-моделирования\n",
        "- моделирование оттока. \n",
        "\n",
        "Также будет затронут вопрос формулирования гипотез, презентации результатов, интеграции и АБ-тестирования ML-моделей. \n",
        "\n",
        "Итогом курса будет разработка Rest API сервиса, с которым можно взаимодействовать и получать прогнозы для новых данных.#"
      ]
    },
    {
      "cell_type": "markdown",
      "metadata": {
        "id": "v10unpM0UTuQ"
      },
      "source": [
        "#### Важные уточнения"
      ]
    },
    {
      "cell_type": "markdown",
      "metadata": {
        "id": "OCUcImgTUTuR"
      },
      "source": [
        "Моделирование - лишь малая часть большого процесса по решению реальной задачи"
      ]
    },
    {
      "cell_type": "markdown",
      "metadata": {
        "id": "-MRu462BUTuT"
      },
      "source": [
        "Более того, перед тем как внедрять ML, стоит ответить на ряд вопросов:\n",
        "\n",
        "- какую проблему решаем, и для кого?\n",
        "- как проблема решается сейчас? Чем нам поможет ML?\n",
        "\n",
        "Как вы понимаете, ответы нетривиальны обычно."
      ]
    },
    {
      "cell_type": "markdown",
      "metadata": {
        "id": "21FzAAN1UTuU"
      },
      "source": [
        "Пример схемы, как может выглядеть решение на базе машинного обучения"
      ]
    },
    {
      "cell_type": "markdown",
      "metadata": {
        "id": "stU15zz1UTuV"
      },
      "source": [
        "![ab_split](tdsp-lifecycle2.png \"TDSP\")"
      ]
    },
    {
      "cell_type": "markdown",
      "metadata": {
        "id": "JsenNZlSUTuY"
      },
      "source": [
        "Существует проблема общения бизнеса и DS (говорят на каком-то своем языке)"
      ]
    },
    {
      "cell_type": "markdown",
      "metadata": {
        "id": "imwxy56gUTua"
      },
      "source": [
        "## Вебинар 1. Введение. Data-driven подход на примере задачи маршрутизации заявок в helpdesk"
      ]
    },
    {
      "cell_type": "markdown",
      "metadata": {
        "id": "a2JlEKUvUTuc"
      },
      "source": [
        "### Введение и примеры задач, которые мы рассмотрим в рамках курса"
      ]
    },
    {
      "cell_type": "markdown",
      "metadata": {
        "id": "O6NPD3xBUTue"
      },
      "source": [
        "Машинное обучение в бизнесе:\n",
        "- ориентированность на улучшение показателей бизнеса\n",
        "- сложно оценить результат заранее\n",
        "- долго по времени\n",
        "- планирование внедрения"
      ]
    },
    {
      "cell_type": "markdown",
      "metadata": {
        "id": "WBJrozf4UTuf"
      },
      "source": [
        "Примеры задач (часть из них мы рассмотрим их в рамках курса):\n",
        "- маршрутизация заявок в helpdesk\n",
        "- сегментирование аудитории\n",
        "- прогнозирование оттока\n",
        "- персональные рекомендации\n",
        "- uplift-моделирование\n",
        "- etc"
      ]
    },
    {
      "cell_type": "markdown",
      "metadata": {
        "id": "o6usqs3dUTug"
      },
      "source": [
        "Также мы коснемся вопросов:"
      ]
    },
    {
      "cell_type": "markdown",
      "metadata": {
        "id": "ZDsg54zvUTug"
      },
      "source": [
        "- связи DS-метрик и бизнес-метрик\n",
        "- онлайн-тестирования (АБ-тестирование)\n",
        "- интерпретируемости обученных моделей\n",
        "- \"продуктивизации\" моделей и пайплайнов"
      ]
    },
    {
      "cell_type": "markdown",
      "metadata": {
        "id": "8wQNN_m3UTuh"
      },
      "source": [
        "### Пример 1. Маршрутизация заявок в службе технической поддержки"
      ]
    },
    {
      "cell_type": "markdown",
      "metadata": {
        "id": "LS0M8H0CUTui"
      },
      "source": [
        "Схема"
      ]
    },
    {
      "cell_type": "markdown",
      "metadata": {
        "id": "OAHpm-YDUTuk"
      },
      "source": [
        "![ab_split](helpdesk1.png \"Helpdesk 1\")"
      ]
    },
    {
      "cell_type": "markdown",
      "metadata": {
        "id": "MVXqIIlMUTul"
      },
      "source": [
        "Ссылка - http://www.it-rw.ru/helpdesk2.html"
      ]
    },
    {
      "cell_type": "markdown",
      "metadata": {
        "id": "4oWb6YNJUTum"
      },
      "source": [
        "Проблема - много ручной работы по распределению заявок между командами.\n",
        "\n",
        "Возможное решение - передать управление процессом распределения заявок ML-модели."
      ]
    },
    {
      "cell_type": "markdown",
      "metadata": {
        "id": "H8TPIJZ9UTup"
      },
      "source": [
        "На схеме выше мы встраиваем модель параллельно с администратором, которая также будет разбирать заявки автоматически. "
      ]
    },
    {
      "cell_type": "markdown",
      "metadata": {
        "id": "fMEZJtFsUTut"
      },
      "source": [
        "С чего же нам начать?"
      ]
    },
    {
      "cell_type": "markdown",
      "metadata": {
        "id": "EdiuvOSiUTuu"
      },
      "source": [
        "#### Как это может выглядеть на практике (с вариациями)"
      ]
    },
    {
      "cell_type": "markdown",
      "metadata": {
        "id": "H1Q9YaU-UTuv"
      },
      "source": [
        "Проблема -> Анализ -> Продуктовая гипотеза -> Метрики и критерии приемки -> ML решение -> AB-тестирование -> Оценка результатов -> Интеграция с другими командами"
      ]
    },
    {
      "cell_type": "markdown",
      "metadata": {
        "id": "dAjKlL6qUTuv"
      },
      "source": [
        "### 1. Проблема и почему ее стоит решать (игрушечный пример)"
      ]
    },
    {
      "cell_type": "markdown",
      "metadata": {
        "id": "qpiMvEe8UTuw"
      },
      "source": [
        "Сейчас все заявки разбираются вручную операторами первой линии и на это уходит N человекочасов в день. Стоимость одного человекочаса - K рублей. Если хотя бы часть (минимум x процентов) заявок будет распределяться автоматически, то это сэкономит нам N*x*k рублей в целом для компании. Более того, часть заявок не успевают распределять, в результате чего компания получает недовольных клиентов."
      ]
    },
    {
      "cell_type": "markdown",
      "metadata": {
        "id": "oBsCZwPlUTux"
      },
      "source": [
        "* на практике часто несколько сложнее обосновать экономическую составляющую, но это почти всегда можно сделать"
      ]
    },
    {
      "cell_type": "markdown",
      "metadata": {
        "id": "WHEvEL60UTux"
      },
      "source": [
        "### 2. Продуктовая гипотеза"
      ]
    },
    {
      "cell_type": "markdown",
      "metadata": {
        "id": "-4jZqCc7UTuy"
      },
      "source": [
        "\"Базируясь на предположении, что модель машинного обучения сможет классифицировать заявки автоматически по их текстовому содержанию и метаинформации, <b>не превышая ошибку в 10%</b>, мы предполагаем, что реализовав такую систему распределения заявок, основанную на ML, мы сможем заметно снизить нагрузку на людей, которые распределяют заявки вручную. Мы увидим это по <b>увеличению количества заявок</b> , <b>корректно</b> обрабатываемых первой линией ТП и можем измерить ее с помощью метрики <b>доля заявок, корректно переведенных на второй уровень ТП</b>. Мы полагаем, что изменение приведет к хорошим результатам для компании, т.к значимо снизит нагрузку на сотрудников ТП и уменьшит долю заявок, которые не успевают обрабатываться\""
      ]
    },
    {
      "cell_type": "markdown",
      "metadata": {
        "id": "jKDx4AJSUTuz"
      },
      "source": [
        "Метрика1 (основная) - ctr (доля заявок, обработанных ML-моделью)\n",
        "\n",
        "* ML-модель может ошибаться и некорректно классифицировать заявки, но она не должна это делать чаще, чем в 10% случаев. Любая некорректно классифицированная заявка возвращается обратно в очередь, при этом тратится время дополнительно уже специалистов второго уровня ТП"
      ]
    },
    {
      "cell_type": "markdown",
      "metadata": {
        "id": "GurNNVhHUTu0"
      },
      "source": [
        "Откуда взялись 10процентов? - это средняя ошибка человека первой линии ТП. Мы хотим, чтобы наша модель ошибалась не чаще и при этом сама парсила содержимое заявок и принимала одно из 2 решений: \n",
        "\n",
        "- передать на второй уровень ТП (выполнить маршрутизацию)\n",
        "- вернуть заявку в общую очередь (пометить, что недостаточно уверена и пусть уже далее заявка разбирается вручную)"
      ]
    },
    {
      "cell_type": "markdown",
      "metadata": {
        "id": "8y4W19cDUTu2"
      },
      "source": [
        "### 3. ML решение (общий случай)\n",
        "\n",
        "1. Формулировка задачи и выбор метрики (DS)\n",
        "2. Сбор данных и подготовка датасета\n",
        "3. Построение модели (обучение)\n",
        "4. Оборачивание всего этого в пайплайн обучения (для того, чтобы использовать в production)\n",
        "5. Мониторинг качества, логгирование\n",
        "6. Оценка результатов и проведение экспериментов"
      ]
    },
    {
      "cell_type": "markdown",
      "metadata": {
        "id": "-RLDhx2IUTu3"
      },
      "source": [
        "### 4. AB-тестирование (планирование)"
      ]
    },
    {
      "cell_type": "markdown",
      "metadata": {
        "id": "FtJzBPDzUTu3"
      },
      "source": [
        "Как АБ-тестирование выглядит в общем случае, когда у нас 2 варианта"
      ]
    },
    {
      "cell_type": "markdown",
      "metadata": {
        "id": "pOMXydUoUTu4"
      },
      "source": [
        "![ab_split](ab1.png \"AB split\")"
      ]
    },
    {
      "cell_type": "markdown",
      "metadata": {
        "id": "OlGfLnQUUTu5"
      },
      "source": [
        "Разбиваем все наши заявки на 2 группы (при этом мы не все заявки берем, а только некоторую часть - об этом позже): \n",
        "\n",
        "- A: заявки разбираются вручную как и ранее\n",
        "- B: в обработке заявок участвует модель\n",
        "\n",
        "Далее сравниваем с помощью статистического теста долю правильно обработанных и переданных на второй уровень ТП заявок. \n",
        "\n",
        "Гипотеза 0 - разницы в конверсии нет и модель никак не увеличивает долю таких заявок.\n",
        "\n",
        "Гипотеза 1 - модель статистически значимо увеличит показатель конверсии. \n",
        "\n",
        "Т.к наша метрика - бинарная (конверсия), то нам легко будет выбрать критерий и подтвердить/опровергнуть нулевую гипотезу."
      ]
    },
    {
      "cell_type": "markdown",
      "metadata": {
        "id": "-_BZdWXpUTu6"
      },
      "source": [
        "### Как разбить аудиторию?"
      ]
    },
    {
      "cell_type": "markdown",
      "metadata": {
        "id": "uu2ss40oUTu6"
      },
      "source": [
        "- случайно\n",
        "- случайно со стратификацией\n",
        "- отфильтровать по сегментам"
      ]
    },
    {
      "cell_type": "markdown",
      "metadata": {
        "id": "oFP50i71UTu7"
      },
      "source": [
        "Случайно"
      ]
    },
    {
      "cell_type": "markdown",
      "metadata": {
        "id": "ZtOvt7NbUTu7"
      },
      "source": [
        "![random_sampling](sampling_random.png \"sampling_random\")"
      ]
    },
    {
      "cell_type": "markdown",
      "metadata": {
        "id": "RDk10jfoUTu7"
      },
      "source": [
        "Stratified Random Sampling"
      ]
    },
    {
      "cell_type": "markdown",
      "metadata": {
        "id": "M1sXvQG7UTu8"
      },
      "source": [
        "![stratified_sampling](sampling_stratified.png \"stratified_sampling\")"
      ]
    },
    {
      "cell_type": "markdown",
      "metadata": {
        "id": "L4-J6MRHUTu9"
      },
      "source": [
        "Теперь важный вопрос: какая доля заявок будет участвовать в эксперименте? Ответ нетривиален.\n",
        "\n",
        "Нам нужно выбрать столько, чтобы нам было достаточно для получения статистически значимых выводов, при том, что сам эксперимент можно провести за относительно небольшое время. "
      ]
    },
    {
      "cell_type": "markdown",
      "metadata": {
        "id": "w4-gxFS1UTu9"
      },
      "source": [
        "### Как понять, сколько нам \"достаточно\"?"
      ]
    },
    {
      "cell_type": "markdown",
      "metadata": {
        "id": "tKjh91uxUTu-"
      },
      "source": [
        "Рассмотрим пример результатов АБ-теста"
      ]
    },
    {
      "cell_type": "markdown",
      "metadata": {
        "id": "ZUGW8pehUTu-"
      },
      "source": [
        "![ab_split](ab2.png \"AB results example\")"
      ]
    },
    {
      "cell_type": "markdown",
      "metadata": {
        "id": "j5lUa8uDUTu_"
      },
      "source": [
        "Все подробно разберем на занятии 8. \n",
        "\n",
        "Полезные ссылки:\n",
        "\n",
        "https://geekbrains.ru/events/2128\n"
      ]
    },
    {
      "cell_type": "markdown",
      "metadata": {
        "id": "YDaIA1WsUTu_"
      },
      "source": [
        "### 5. Оценка результатов и вопрос интеграции"
      ]
    },
    {
      "cell_type": "markdown",
      "metadata": {
        "id": "FAv8bi0ZUTvA"
      },
      "source": [
        "Если будет получена статзначимость и мы успешно пройдем этап АБ-тестирования, то можно будет перейти к этапу интеграции нашего решения в компании. \n",
        "\n",
        "Обычно для доступа к ML-модели поднимается web API, с которым можно настроить интеграцию. Это будет нашим финальным проектом. "
      ]
    },
    {
      "cell_type": "markdown",
      "metadata": {
        "id": "d72zhlG4UTvA"
      },
      "source": [
        "В рамках курса каждый этап мы будем разбирать отдельно. "
      ]
    },
    {
      "cell_type": "markdown",
      "metadata": {
        "id": "VT7-kG1BUTvB"
      },
      "source": [
        "### ПЕРЕРЫВ (до 21:00 МСК)"
      ]
    },
    {
      "cell_type": "code",
      "metadata": {
        "id": "feeICmk3UTvC"
      },
      "source": [
        ""
      ],
      "execution_count": null,
      "outputs": []
    },
    {
      "cell_type": "code",
      "metadata": {
        "id": "Pe5k29wNUTvD"
      },
      "source": [
        ""
      ],
      "execution_count": null,
      "outputs": []
    },
    {
      "cell_type": "code",
      "metadata": {
        "id": "NrFr4018UTvE"
      },
      "source": [
        ""
      ],
      "execution_count": null,
      "outputs": []
    },
    {
      "cell_type": "code",
      "metadata": {
        "id": "hmLEOnYJUTvE"
      },
      "source": [
        ""
      ],
      "execution_count": null,
      "outputs": []
    },
    {
      "cell_type": "code",
      "metadata": {
        "id": "0JLV3feiUTvF"
      },
      "source": [
        ""
      ],
      "execution_count": null,
      "outputs": []
    },
    {
      "cell_type": "code",
      "metadata": {
        "id": "ibET_aNLUTvF"
      },
      "source": [
        ""
      ],
      "execution_count": null,
      "outputs": []
    },
    {
      "cell_type": "code",
      "metadata": {
        "id": "cFz0N-54UTvG"
      },
      "source": [
        ""
      ],
      "execution_count": null,
      "outputs": []
    },
    {
      "cell_type": "markdown",
      "metadata": {
        "id": "UeBu2IDLUTvG"
      },
      "source": [
        "## Вернемся к практике"
      ]
    },
    {
      "cell_type": "code",
      "metadata": {
        "id": "MaNkb_7wUTvH"
      },
      "source": [
        "import pandas as pd\n",
        "import numpy as np\n",
        "from sklearn.pipeline import Pipeline, make_pipeline\n",
        "from sklearn.base import BaseEstimator, TransformerMixin\n",
        "from sklearn.linear_model import LogisticRegression\n",
        "from sklearn.model_selection import train_test_split\n",
        "from sklearn.feature_extraction.text import TfidfVectorizer\n",
        "import itertools\n",
        "\n",
        "import matplotlib.pyplot as plt\n",
        "\n",
        "%matplotlib inline"
      ],
      "execution_count": null,
      "outputs": []
    },
    {
      "cell_type": "code",
      "metadata": {
        "id": "zYR2GsDeUTvJ",
        "outputId": "c08e17a9-91d1-43cf-fcd6-f111187e6b26"
      },
      "source": [
        "df = pd.read_csv(\"support_data.csv\").drop('Unnamed: 0', 1)\n",
        "df.head(3)"
      ],
      "execution_count": null,
      "outputs": [
        {
          "data": {
            "text/html": [
              "<div>\n",
              "<style scoped>\n",
              "    .dataframe tbody tr th:only-of-type {\n",
              "        vertical-align: middle;\n",
              "    }\n",
              "\n",
              "    .dataframe tbody tr th {\n",
              "        vertical-align: top;\n",
              "    }\n",
              "\n",
              "    .dataframe thead th {\n",
              "        text-align: right;\n",
              "    }\n",
              "</style>\n",
              "<table border=\"1\" class=\"dataframe\">\n",
              "  <thead>\n",
              "    <tr style=\"text-align: right;\">\n",
              "      <th></th>\n",
              "      <th>Title</th>\n",
              "      <th>Resolution</th>\n",
              "      <th>class</th>\n",
              "      <th>category</th>\n",
              "    </tr>\n",
              "  </thead>\n",
              "  <tbody>\n",
              "    <tr>\n",
              "      <th>0</th>\n",
              "      <td>Need Ethernet access</td>\n",
              "      <td>Please connect the LAN cable to the red port o...</td>\n",
              "      <td>41</td>\n",
              "      <td>1</td>\n",
              "    </tr>\n",
              "    <tr>\n",
              "      <th>1</th>\n",
              "      <td>Create new account and share the username and ...</td>\n",
              "      <td>Go to URL : accountsetup.com, Enter personal d...</td>\n",
              "      <td>35</td>\n",
              "      <td>0</td>\n",
              "    </tr>\n",
              "    <tr>\n",
              "      <th>2</th>\n",
              "      <td>FW: Myspace Login Issue-- Ania</td>\n",
              "      <td>Go to URL : password.reset.com, Enter you logi...</td>\n",
              "      <td>36</td>\n",
              "      <td>0</td>\n",
              "    </tr>\n",
              "  </tbody>\n",
              "</table>\n",
              "</div>"
            ],
            "text/plain": [
              "                                               Title  \\\n",
              "0                               Need Ethernet access   \n",
              "1  Create new account and share the username and ...   \n",
              "2                     FW: Myspace Login Issue-- Ania   \n",
              "\n",
              "                                          Resolution  class  category  \n",
              "0  Please connect the LAN cable to the red port o...     41         1  \n",
              "1  Go to URL : accountsetup.com, Enter personal d...     35         0  \n",
              "2  Go to URL : password.reset.com, Enter you logi...     36         0  "
            ]
          },
          "execution_count": 2,
          "metadata": {},
          "output_type": "execute_result"
        }
      ]
    },
    {
      "cell_type": "markdown",
      "metadata": {
        "id": "QoTV2_WsUTvM"
      },
      "source": [
        "Посмотрим на распределение классов:"
      ]
    },
    {
      "cell_type": "code",
      "metadata": {
        "id": "3nibdAGMUTvM",
        "outputId": "fe6bcd63-b54b-4c32-f2b4-bea5a9b55bdc"
      },
      "source": [
        "df['category'].value_counts()"
      ],
      "execution_count": null,
      "outputs": [
        {
          "data": {
            "text/plain": [
              "0    125\n",
              "1     25\n",
              "Name: category, dtype: int64"
            ]
          },
          "execution_count": 3,
          "metadata": {},
          "output_type": "execute_result"
        }
      ]
    },
    {
      "cell_type": "markdown",
      "metadata": {
        "id": "kqtEdVu_UTvN"
      },
      "source": [
        "В качестве поля для генерации признаков будем использовать Title. Сразу же будем работать с использованием sklearn pipeline"
      ]
    },
    {
      "cell_type": "markdown",
      "metadata": {
        "id": "ZmDSBK3FUTvO"
      },
      "source": [
        "### Что такое pipeline?"
      ]
    },
    {
      "cell_type": "markdown",
      "metadata": {
        "id": "3zmDDyeVUTvO"
      },
      "source": [
        "https://scikit-learn.org/stable/modules/generated/sklearn.pipeline.Pipeline.html"
      ]
    },
    {
      "cell_type": "markdown",
      "metadata": {
        "id": "__PFKf2LUTvP"
      },
      "source": [
        "![ab_split](pipeline.png \"Pipeline\")"
      ]
    },
    {
      "cell_type": "markdown",
      "metadata": {
        "id": "afbeCG-zUTvP"
      },
      "source": [
        "Еще схема (пример)"
      ]
    },
    {
      "cell_type": "markdown",
      "metadata": {
        "id": "MlI9DA6bUTvQ"
      },
      "source": [
        "![ab_split](pipeline2.png \"Pipeline2\")"
      ]
    },
    {
      "cell_type": "code",
      "metadata": {
        "id": "2LTveLYKUTvd"
      },
      "source": [
        "#разделим данные на train/test\n",
        "X_train, X_test, y_train, y_test = train_test_split(df, df['category'], random_state=0)"
      ],
      "execution_count": null,
      "outputs": []
    },
    {
      "cell_type": "code",
      "metadata": {
        "id": "ALfb5FByUTvd",
        "outputId": "11f7c50a-0040-414f-8af3-83b6fb60d498"
      },
      "source": [
        "X_train.head()"
      ],
      "execution_count": null,
      "outputs": [
        {
          "data": {
            "text/html": [
              "<div>\n",
              "<style scoped>\n",
              "    .dataframe tbody tr th:only-of-type {\n",
              "        vertical-align: middle;\n",
              "    }\n",
              "\n",
              "    .dataframe tbody tr th {\n",
              "        vertical-align: top;\n",
              "    }\n",
              "\n",
              "    .dataframe thead th {\n",
              "        text-align: right;\n",
              "    }\n",
              "</style>\n",
              "<table border=\"1\" class=\"dataframe\">\n",
              "  <thead>\n",
              "    <tr style=\"text-align: right;\">\n",
              "      <th></th>\n",
              "      <th>Title</th>\n",
              "      <th>Resolution</th>\n",
              "      <th>class</th>\n",
              "      <th>category</th>\n",
              "    </tr>\n",
              "  </thead>\n",
              "  <tbody>\n",
              "    <tr>\n",
              "      <th>61</th>\n",
              "      <td>Blocked account. Impossible to connect</td>\n",
              "      <td>Unlocked the account and new password is sent ...</td>\n",
              "      <td>47</td>\n",
              "      <td>0</td>\n",
              "    </tr>\n",
              "    <tr>\n",
              "      <th>92</th>\n",
              "      <td>My computer does not turn on?</td>\n",
              "      <td>Check that all the cables are securely plugge...</td>\n",
              "      <td>3</td>\n",
              "      <td>0</td>\n",
              "    </tr>\n",
              "    <tr>\n",
              "      <th>112</th>\n",
              "      <td>What is a computer virus?</td>\n",
              "      <td>A computer virus is a software program that h...</td>\n",
              "      <td>0</td>\n",
              "      <td>0</td>\n",
              "    </tr>\n",
              "    <tr>\n",
              "      <th>2</th>\n",
              "      <td>FW: Myspace Login Issue-- Ania</td>\n",
              "      <td>Go to URL : password.reset.com, Enter you logi...</td>\n",
              "      <td>36</td>\n",
              "      <td>0</td>\n",
              "    </tr>\n",
              "    <tr>\n",
              "      <th>141</th>\n",
              "      <td>I receive a \"no signal input\" message, what sh...</td>\n",
              "      <td>Verify that the monitor is properly connected...</td>\n",
              "      <td>27</td>\n",
              "      <td>0</td>\n",
              "    </tr>\n",
              "  </tbody>\n",
              "</table>\n",
              "</div>"
            ],
            "text/plain": [
              "                                                 Title  \\\n",
              "61              Blocked account. Impossible to connect   \n",
              "92                       My computer does not turn on?   \n",
              "112                          What is a computer virus?   \n",
              "2                       FW: Myspace Login Issue-- Ania   \n",
              "141  I receive a \"no signal input\" message, what sh...   \n",
              "\n",
              "                                            Resolution  class  category  \n",
              "61   Unlocked the account and new password is sent ...     47         0  \n",
              "92    Check that all the cables are securely plugge...      3         0  \n",
              "112   A computer virus is a software program that h...      0         0  \n",
              "2    Go to URL : password.reset.com, Enter you logi...     36         0  \n",
              "141   Verify that the monitor is properly connected...     27         0  "
            ]
          },
          "execution_count": 5,
          "metadata": {},
          "output_type": "execute_result"
        }
      ]
    },
    {
      "cell_type": "code",
      "metadata": {
        "id": "e-djGIdsUTve"
      },
      "source": [
        "#соберем наш простой pipeline, но нам понадобится написать класс для выбора нужного поля\n",
        "class FeatureSelector(BaseEstimator, TransformerMixin):\n",
        "    def __init__(self, column):\n",
        "        self.column = column\n",
        "\n",
        "    def fit(self, X, y=None):\n",
        "        return self\n",
        "\n",
        "    def transform(self, X, y=None):\n",
        "        return X[self.column]\n",
        "\n",
        "pipeline = Pipeline([('title_selector', FeatureSelector(column='Title')), \n",
        "                     ('title_tfidf', TfidfVectorizer(  stop_words='english' , max_features= 1000)), \n",
        "                     ('clf', LogisticRegression(C = 2.0))], verbose = True)"
      ],
      "execution_count": null,
      "outputs": []
    },
    {
      "cell_type": "markdown",
      "metadata": {
        "id": "So9ye-cMUTvf"
      },
      "source": [
        "Что есть что"
      ]
    },
    {
      "cell_type": "markdown",
      "metadata": {
        "id": "1JFSAan0UTvf"
      },
      "source": [
        "- FeatureSelector - выбирает столбец Title и передает его значения на следующий шаг\n",
        "- TfidfVectorizer - векторизует текст (поле Title)\n",
        "- LogisticRegression - наш бинарный классификатор, который обучается на результатах предыдущих шагов и разметке (их мы передадим уже при обучении)"
      ]
    },
    {
      "cell_type": "markdown",
      "metadata": {
        "id": "4A2fhetzUTvg"
      },
      "source": [
        "### tfidf (если кто-то забыл)"
      ]
    },
    {
      "cell_type": "markdown",
      "metadata": {
        "id": "ZwYfEpnRUTvg"
      },
      "source": [
        "https://ru.wikipedia.org/wiki/TF-IDF"
      ]
    },
    {
      "cell_type": "markdown",
      "metadata": {
        "id": "jNHcJMMOUTvh"
      },
      "source": [
        "![ab_split](tfidf.png \"TFIDF\")"
      ]
    },
    {
      "cell_type": "markdown",
      "metadata": {
        "id": "lSIHZq8aUTvh"
      },
      "source": [
        "## BoW"
      ]
    },
    {
      "cell_type": "code",
      "metadata": {
        "id": "InCaRVG1UTvh"
      },
      "source": [
        "from sklearn.feature_extraction.text import CountVectorizer "
      ],
      "execution_count": null,
      "outputs": []
    },
    {
      "cell_type": "code",
      "metadata": {
        "id": "Hl-Xew0iUTvi"
      },
      "source": [
        "docs=[\"the house had a tiny little mouse\", \n",
        "\"the cat saw the mouse\", \n",
        "\"the mouse ran away from the house\", \n",
        "\"the cat finally ate the mouse\", \n",
        "\"the end of the mouse story\"\n",
        "]"
      ],
      "execution_count": null,
      "outputs": []
    },
    {
      "cell_type": "code",
      "metadata": {
        "id": "_PyMSbrHUTvi",
        "outputId": "0a337ae2-3252-4d58-a4f0-46144499df25"
      },
      "source": [
        "cv=CountVectorizer(max_features=16,stop_words='english') \n",
        " \n",
        "# считаем слова\n",
        "word_=cv.fit_transform(docs)\n",
        "print(cv.transform(docs[:1]))\n"
      ],
      "execution_count": null,
      "outputs": [
        {
          "name": "stdout",
          "output_type": "stream",
          "text": [
            "  (0, 5)\t1\n",
            "  (0, 6)\t1\n",
            "  (0, 7)\t1\n",
            "  (0, 11)\t1\n"
          ]
        }
      ]
    },
    {
      "cell_type": "code",
      "metadata": {
        "id": "dZd1eFkeUTvj",
        "outputId": "d0f0660a-ba97-4500-f627-be23f45caf25"
      },
      "source": [
        "word_[0]"
      ],
      "execution_count": null,
      "outputs": [
        {
          "data": {
            "text/plain": [
              "<1x12 sparse matrix of type '<class 'numpy.int64'>'\n",
              "\twith 4 stored elements in Compressed Sparse Row format>"
            ]
          },
          "execution_count": 10,
          "metadata": {},
          "output_type": "execute_result"
        }
      ]
    },
    {
      "cell_type": "code",
      "metadata": {
        "id": "bZ3I516fUTvk",
        "outputId": "31fd0fde-1af2-4493-df49-4167eae6cc88"
      },
      "source": [
        "word_.shape"
      ],
      "execution_count": null,
      "outputs": [
        {
          "data": {
            "text/plain": [
              "(5, 12)"
            ]
          },
          "execution_count": 11,
          "metadata": {},
          "output_type": "execute_result"
        }
      ]
    },
    {
      "cell_type": "code",
      "metadata": {
        "id": "vVdX2oWxUTvl",
        "outputId": "174a649f-15a9-4920-9bd0-cb4d4aef1d6c"
      },
      "source": [
        "list(cv.vocabulary_.keys())"
      ],
      "execution_count": null,
      "outputs": [
        {
          "data": {
            "text/plain": [
              "['house',\n",
              " 'tiny',\n",
              " 'little',\n",
              " 'mouse',\n",
              " 'cat',\n",
              " 'saw',\n",
              " 'ran',\n",
              " 'away',\n",
              " 'finally',\n",
              " 'ate',\n",
              " 'end',\n",
              " 'story']"
            ]
          },
          "execution_count": 12,
          "metadata": {},
          "output_type": "execute_result"
        }
      ]
    },
    {
      "cell_type": "code",
      "metadata": {
        "id": "06FayeolUTvl",
        "outputId": "fdbdc768-afd6-4133-dab5-afeebc501509"
      },
      "source": [
        "print(cv.transform([\"the house had the house had saw\"]))"
      ],
      "execution_count": null,
      "outputs": [
        {
          "name": "stdout",
          "output_type": "stream",
          "text": [
            "  (0, 5)\t2\n",
            "  (0, 9)\t1\n"
          ]
        }
      ]
    },
    {
      "cell_type": "markdown",
      "metadata": {
        "id": "eF4YcyHcUTvm"
      },
      "source": [
        "## TFiDF"
      ]
    },
    {
      "cell_type": "code",
      "metadata": {
        "id": "UcaNoftUUTvm",
        "outputId": "17f1e31e-5786-4913-b351-fd36426d6765"
      },
      "source": [
        "tf0 = TfidfVectorizer( stop_words='english' , max_features= 16)\n",
        "tf0.fit(docs)"
      ],
      "execution_count": null,
      "outputs": [
        {
          "data": {
            "text/plain": [
              "TfidfVectorizer(analyzer='word', binary=False, decode_error='strict',\n",
              "                dtype=<class 'numpy.float64'>, encoding='utf-8',\n",
              "                input='content', lowercase=True, max_df=1.0, max_features=16,\n",
              "                min_df=1, ngram_range=(1, 1), norm='l2', preprocessor=None,\n",
              "                smooth_idf=True, stop_words='english', strip_accents=None,\n",
              "                sublinear_tf=False, token_pattern='(?u)\\\\b\\\\w\\\\w+\\\\b',\n",
              "                tokenizer=None, use_idf=True, vocabulary=None)"
            ]
          },
          "execution_count": 14,
          "metadata": {},
          "output_type": "execute_result"
        }
      ]
    },
    {
      "cell_type": "code",
      "metadata": {
        "id": "oMNcnhN4UTvo",
        "outputId": "3bba078a-eab8-4a73-e0da-d8897c9397e1"
      },
      "source": [
        "x0 = tf0.transform(docs[:1])\n",
        "print(docs[0])\n",
        "print(x0)"
      ],
      "execution_count": null,
      "outputs": [
        {
          "name": "stdout",
          "output_type": "stream",
          "text": [
            "the house had a tiny little mouse\n",
            "  (0, 11)\t0.5894630806320427\n",
            "  (0, 7)\t0.2808823162882302\n",
            "  (0, 6)\t0.5894630806320427\n",
            "  (0, 5)\t0.47557510189256375\n"
          ]
        }
      ]
    },
    {
      "cell_type": "code",
      "metadata": {
        "id": "q_K-oKZrUTvp",
        "outputId": "4d9a0346-077c-4b26-b09a-ead625aa2af9"
      },
      "source": [
        "# соберем значения\n",
        "df_idf = pd.DataFrame(tf0.idf_, index=tf0.get_feature_names(),columns=[\"idf_weights\"]) \n",
        " \n",
        "# отсортируем по силе\n",
        "df_idf.sort_values(by=['idf_weights'])"
      ],
      "execution_count": null,
      "outputs": [
        {
          "data": {
            "text/html": [
              "<div>\n",
              "<style scoped>\n",
              "    .dataframe tbody tr th:only-of-type {\n",
              "        vertical-align: middle;\n",
              "    }\n",
              "\n",
              "    .dataframe tbody tr th {\n",
              "        vertical-align: top;\n",
              "    }\n",
              "\n",
              "    .dataframe thead th {\n",
              "        text-align: right;\n",
              "    }\n",
              "</style>\n",
              "<table border=\"1\" class=\"dataframe\">\n",
              "  <thead>\n",
              "    <tr style=\"text-align: right;\">\n",
              "      <th></th>\n",
              "      <th>idf_weights</th>\n",
              "    </tr>\n",
              "  </thead>\n",
              "  <tbody>\n",
              "    <tr>\n",
              "      <th>mouse</th>\n",
              "      <td>1.000000</td>\n",
              "    </tr>\n",
              "    <tr>\n",
              "      <th>cat</th>\n",
              "      <td>1.693147</td>\n",
              "    </tr>\n",
              "    <tr>\n",
              "      <th>house</th>\n",
              "      <td>1.693147</td>\n",
              "    </tr>\n",
              "    <tr>\n",
              "      <th>ate</th>\n",
              "      <td>2.098612</td>\n",
              "    </tr>\n",
              "    <tr>\n",
              "      <th>away</th>\n",
              "      <td>2.098612</td>\n",
              "    </tr>\n",
              "    <tr>\n",
              "      <th>end</th>\n",
              "      <td>2.098612</td>\n",
              "    </tr>\n",
              "    <tr>\n",
              "      <th>finally</th>\n",
              "      <td>2.098612</td>\n",
              "    </tr>\n",
              "    <tr>\n",
              "      <th>little</th>\n",
              "      <td>2.098612</td>\n",
              "    </tr>\n",
              "    <tr>\n",
              "      <th>ran</th>\n",
              "      <td>2.098612</td>\n",
              "    </tr>\n",
              "    <tr>\n",
              "      <th>saw</th>\n",
              "      <td>2.098612</td>\n",
              "    </tr>\n",
              "    <tr>\n",
              "      <th>story</th>\n",
              "      <td>2.098612</td>\n",
              "    </tr>\n",
              "    <tr>\n",
              "      <th>tiny</th>\n",
              "      <td>2.098612</td>\n",
              "    </tr>\n",
              "  </tbody>\n",
              "</table>\n",
              "</div>"
            ],
            "text/plain": [
              "         idf_weights\n",
              "mouse       1.000000\n",
              "cat         1.693147\n",
              "house       1.693147\n",
              "ate         2.098612\n",
              "away        2.098612\n",
              "end         2.098612\n",
              "finally     2.098612\n",
              "little      2.098612\n",
              "ran         2.098612\n",
              "saw         2.098612\n",
              "story       2.098612\n",
              "tiny        2.098612"
            ]
          },
          "execution_count": 16,
          "metadata": {},
          "output_type": "execute_result"
        }
      ]
    },
    {
      "cell_type": "code",
      "metadata": {
        "id": "s45-YZwdUTvq",
        "outputId": "7882c5be-0a7a-4c98-e483-35827878e7ca"
      },
      "source": [
        "tf1 = TfidfVectorizer( stop_words='english' , max_features= 100)\n",
        "tf1.fit(X_train['Title'])\n",
        "\n",
        "x1 = tf1.transform(X_train['Title'].iloc[:1])\n",
        "print(X_train['Title'].iloc[:1])\n",
        "print(x1)"
      ],
      "execution_count": null,
      "outputs": [
        {
          "name": "stdout",
          "output_type": "stream",
          "text": [
            "61    Blocked account. Impossible to connect\n",
            "Name: Title, dtype: object\n",
            "  (0, 17)\t0.5610460677085695\n",
            "  (0, 11)\t0.6306430064818508\n",
            "  (0, 1)\t0.5362058450672498\n"
          ]
        }
      ]
    },
    {
      "cell_type": "code",
      "metadata": {
        "id": "dlXMNR2UUTvr",
        "outputId": "a45de44d-979e-4410-db26-0154804daef3"
      },
      "source": [
        "\n",
        "feature_names=tf1.get_feature_names()\n",
        "print(feature_names)"
      ],
      "execution_count": null,
      "outputs": [
        {
          "name": "stdout",
          "output_type": "stream",
          "text": [
            "['access', 'account', 'addresses', 'allowed', 'ania', 'anymore', 'appears', 'attachments', 'battery', 'behaving', 'bin', 'blocked', 'blue', 'borders', 'come', 'computer', 'configure', 'connect', 'contraseña', 'create', 'credetials', 'damage', 'database', 'delete', 'determine', 'disk', 'display', 'distorted', 'does', 'drive', 'email', 'erase', 'erratically', 'expiry', 'file', 'fix', 'fw', 'hangs', 'hard', 'input', 'install', 'installation', 'internet', 'issue', 'jam', 'la', 'lan', 'laptop', 'login', 'lost', 'macbook', 'machine', 'mail', 'message', 'microsoft', 'middle', 'mode', 'monitor', 'mot', 'mouse', 'myspace', 'need', 'network', 'new', 'outlook', 'pages', 'paper', 'passe', 'password', 'postgres', 'printer', 'problem', 'program', 'protection', 'qa', 'receive', 'recover', 'recycle', 'replace', 'request', 'reset', 'safe', 'screen', 'send', 'share', 'signal', 'space', 'spaces', 'startup', 'strangely', 'turn', 'update', 'username', 'users', 'virus', 'wifi', 'windows', 'work', 'working', 'xwq090']\n"
          ]
        }
      ]
    },
    {
      "cell_type": "markdown",
      "metadata": {
        "id": "Zm3-DkHkUTvs"
      },
      "source": [
        "### Pipeline\n",
        "\n"
      ]
    },
    {
      "cell_type": "code",
      "metadata": {
        "id": "im_5ZipUUTvs"
      },
      "source": [
        "#соберем наш простой pipeline, но нам понадобится написать класс для выбора нужного поля\n",
        "\n",
        "\n",
        "pipeline = Pipeline([('title_selector', FeatureSelector(column='Title')), \n",
        "                     ('title_tfidf', TfidfVectorizer(  stop_words='english' , max_features= 100)), \n",
        "                     ('clf', LogisticRegression(C = 2.0))], verbose = True)"
      ],
      "execution_count": null,
      "outputs": []
    },
    {
      "cell_type": "code",
      "metadata": {
        "id": "RwwUlcgYUTvt",
        "outputId": "5b3785a9-f2b1-4363-88bb-52b9ed67495c"
      },
      "source": [
        "#обучим наш пайплайн\n",
        "pipeline.fit(X_train, y_train)"
      ],
      "execution_count": null,
      "outputs": [
        {
          "name": "stdout",
          "output_type": "stream",
          "text": [
            "[Pipeline] .... (step 1 of 3) Processing title_selector, total=   0.0s\n",
            "[Pipeline] ....... (step 2 of 3) Processing title_tfidf, total=   0.0s\n",
            "[Pipeline] ............... (step 3 of 3) Processing clf, total=   0.0s\n"
          ]
        },
        {
          "data": {
            "text/plain": [
              "Pipeline(memory=None,\n",
              "         steps=[('title_selector', FeatureSelector(column='Title')),\n",
              "                ('title_tfidf',\n",
              "                 TfidfVectorizer(analyzer='word', binary=False,\n",
              "                                 decode_error='strict',\n",
              "                                 dtype=<class 'numpy.float64'>,\n",
              "                                 encoding='utf-8', input='content',\n",
              "                                 lowercase=True, max_df=1.0, max_features=100,\n",
              "                                 min_df=1, ngram_range=(1, 1), norm='l2',\n",
              "                                 preprocessor=None, smooth_idf=True,\n",
              "                                 stop_words='e...\n",
              "                                 sublinear_tf=False,\n",
              "                                 token_pattern='(?u)\\\\b\\\\w\\\\w+\\\\b',\n",
              "                                 tokenizer=None, use_idf=True,\n",
              "                                 vocabulary=None)),\n",
              "                ('clf',\n",
              "                 LogisticRegression(C=2.0, class_weight=None, dual=False,\n",
              "                                    fit_intercept=True, intercept_scaling=1,\n",
              "                                    l1_ratio=None, max_iter=100,\n",
              "                                    multi_class='auto', n_jobs=None,\n",
              "                                    penalty='l2', random_state=None,\n",
              "                                    solver='lbfgs', tol=0.0001, verbose=0,\n",
              "                                    warm_start=False))],\n",
              "         verbose=True)"
            ]
          },
          "execution_count": 20,
          "metadata": {},
          "output_type": "execute_result"
        }
      ]
    },
    {
      "cell_type": "code",
      "metadata": {
        "id": "5kYAqrYcUTvt",
        "outputId": "5121a5ec-a6bc-4e3b-94a5-ebc068c60b34"
      },
      "source": [
        "pipeline.named_steps"
      ],
      "execution_count": null,
      "outputs": [
        {
          "data": {
            "text/plain": [
              "{'title_selector': FeatureSelector(column='Title'),\n",
              " 'title_tfidf': TfidfVectorizer(analyzer='word', binary=False, decode_error='strict',\n",
              "                 dtype=<class 'numpy.float64'>, encoding='utf-8',\n",
              "                 input='content', lowercase=True, max_df=1.0, max_features=100,\n",
              "                 min_df=1, ngram_range=(1, 1), norm='l2', preprocessor=None,\n",
              "                 smooth_idf=True, stop_words='english', strip_accents=None,\n",
              "                 sublinear_tf=False, token_pattern='(?u)\\\\b\\\\w\\\\w+\\\\b',\n",
              "                 tokenizer=None, use_idf=True, vocabulary=None),\n",
              " 'clf': LogisticRegression(C=2.0, class_weight=None, dual=False, fit_intercept=True,\n",
              "                    intercept_scaling=1, l1_ratio=None, max_iter=100,\n",
              "                    multi_class='auto', n_jobs=None, penalty='l2',\n",
              "                    random_state=None, solver='lbfgs', tol=0.0001, verbose=0,\n",
              "                    warm_start=False)}"
            ]
          },
          "execution_count": 21,
          "metadata": {},
          "output_type": "execute_result"
        }
      ]
    },
    {
      "cell_type": "code",
      "metadata": {
        "id": "Ey3XA6QcUTvu",
        "outputId": "8b078444-9294-49f7-beb1-6b607c4b219d"
      },
      "source": [
        "pipeline.classes_"
      ],
      "execution_count": null,
      "outputs": [
        {
          "data": {
            "text/plain": [
              "array([0, 1], dtype=int64)"
            ]
          },
          "execution_count": 22,
          "metadata": {},
          "output_type": "execute_result"
        }
      ]
    },
    {
      "cell_type": "code",
      "metadata": {
        "id": "CpqRBt0MUTvu",
        "outputId": "9583b1a0-07b8-41cc-f691-7e00afad6bf6"
      },
      "source": [
        "pipeline[1]\n"
      ],
      "execution_count": null,
      "outputs": [
        {
          "data": {
            "text/plain": [
              "TfidfVectorizer(analyzer='word', binary=False, decode_error='strict',\n",
              "                dtype=<class 'numpy.float64'>, encoding='utf-8',\n",
              "                input='content', lowercase=True, max_df=1.0, max_features=100,\n",
              "                min_df=1, ngram_range=(1, 1), norm='l2', preprocessor=None,\n",
              "                smooth_idf=True, stop_words='english', strip_accents=None,\n",
              "                sublinear_tf=False, token_pattern='(?u)\\\\b\\\\w\\\\w+\\\\b',\n",
              "                tokenizer=None, use_idf=True, vocabulary=None)"
            ]
          },
          "execution_count": 23,
          "metadata": {},
          "output_type": "execute_result"
        }
      ]
    },
    {
      "cell_type": "code",
      "metadata": {
        "id": "L0v7tOqiUTvv",
        "outputId": "59a9a4cd-4bdb-4cf6-9359-a4b742f0bb3b"
      },
      "source": [
        "pipeline['clf']"
      ],
      "execution_count": null,
      "outputs": [
        {
          "data": {
            "text/plain": [
              "LogisticRegression(C=2.0, class_weight=None, dual=False, fit_intercept=True,\n",
              "                   intercept_scaling=1, l1_ratio=None, max_iter=100,\n",
              "                   multi_class='auto', n_jobs=None, penalty='l2',\n",
              "                   random_state=None, solver='lbfgs', tol=0.0001, verbose=0,\n",
              "                   warm_start=False)"
            ]
          },
          "execution_count": 24,
          "metadata": {},
          "output_type": "execute_result"
        }
      ]
    },
    {
      "cell_type": "code",
      "metadata": {
        "id": "kCHDiO3uUTvw",
        "outputId": "fddddfc2-fc57-41e1-bd66-4a1187e7117c"
      },
      "source": [
        "pipeline[1].transform(X_test.Title)"
      ],
      "execution_count": null,
      "outputs": [
        {
          "data": {
            "text/plain": [
              "<38x100 sparse matrix of type '<class 'numpy.float64'>'\n",
              "\twith 94 stored elements in Compressed Sparse Row format>"
            ]
          },
          "execution_count": 25,
          "metadata": {},
          "output_type": "execute_result"
        }
      ]
    },
    {
      "cell_type": "code",
      "metadata": {
        "id": "J-oSCOXnUTvw",
        "outputId": "ef968b96-5bc6-4883-a7b2-2ebfca0c70cb"
      },
      "source": [
        "X_test.head()"
      ],
      "execution_count": null,
      "outputs": [
        {
          "data": {
            "text/html": [
              "<div>\n",
              "<style scoped>\n",
              "    .dataframe tbody tr th:only-of-type {\n",
              "        vertical-align: middle;\n",
              "    }\n",
              "\n",
              "    .dataframe tbody tr th {\n",
              "        vertical-align: top;\n",
              "    }\n",
              "\n",
              "    .dataframe thead th {\n",
              "        text-align: right;\n",
              "    }\n",
              "</style>\n",
              "<table border=\"1\" class=\"dataframe\">\n",
              "  <thead>\n",
              "    <tr style=\"text-align: right;\">\n",
              "      <th></th>\n",
              "      <th>Title</th>\n",
              "      <th>Resolution</th>\n",
              "      <th>class</th>\n",
              "      <th>category</th>\n",
              "    </tr>\n",
              "  </thead>\n",
              "  <tbody>\n",
              "    <tr>\n",
              "      <th>114</th>\n",
              "      <td>What to do when my computer crashes?</td>\n",
              "      <td>There are many reasons why a computer may jus...</td>\n",
              "      <td>21</td>\n",
              "      <td>0</td>\n",
              "    </tr>\n",
              "    <tr>\n",
              "      <th>62</th>\n",
              "      <td>Can a virus damage computer hardware?</td>\n",
              "      <td>No. Computer viruses are software code design...</td>\n",
              "      <td>16</td>\n",
              "      <td>0</td>\n",
              "    </tr>\n",
              "    <tr>\n",
              "      <th>33</th>\n",
              "      <td>How do I delete Internet cookies?</td>\n",
              "      <td>Microsoft Internet Explorer users can go to '...</td>\n",
              "      <td>15</td>\n",
              "      <td>0</td>\n",
              "    </tr>\n",
              "    <tr>\n",
              "      <th>107</th>\n",
              "      <td>The office does not work</td>\n",
              "      <td>Please check the Power cables are properly plu...</td>\n",
              "      <td>40</td>\n",
              "      <td>0</td>\n",
              "    </tr>\n",
              "    <tr>\n",
              "      <th>7</th>\n",
              "      <td>LAN not working in a VM</td>\n",
              "      <td>changed network settings to Bridged and config...</td>\n",
              "      <td>49</td>\n",
              "      <td>1</td>\n",
              "    </tr>\n",
              "  </tbody>\n",
              "</table>\n",
              "</div>"
            ],
            "text/plain": [
              "                                     Title  \\\n",
              "114   What to do when my computer crashes?   \n",
              "62   Can a virus damage computer hardware?   \n",
              "33       How do I delete Internet cookies?   \n",
              "107               The office does not work   \n",
              "7                  LAN not working in a VM   \n",
              "\n",
              "                                            Resolution  class  category  \n",
              "114   There are many reasons why a computer may jus...     21         0  \n",
              "62    No. Computer viruses are software code design...     16         0  \n",
              "33    Microsoft Internet Explorer users can go to '...     15         0  \n",
              "107  Please check the Power cables are properly plu...     40         0  \n",
              "7    changed network settings to Bridged and config...     49         1  "
            ]
          },
          "execution_count": 26,
          "metadata": {},
          "output_type": "execute_result"
        }
      ]
    },
    {
      "cell_type": "code",
      "metadata": {
        "id": "s8vU2FKzUTvx",
        "outputId": "23eab4df-3003-4418-e9e6-08a7da59aafb"
      },
      "source": [
        "#наши прогнозы для тестовой выборки\n",
        "preds = pipeline.predict_proba(X_test)\n",
        "preds"
      ],
      "execution_count": null,
      "outputs": [
        {
          "data": {
            "text/plain": [
              "array([[0.96620096, 0.03379904],\n",
              "       [0.95821582, 0.04178418],\n",
              "       [0.54492885, 0.45507115],\n",
              "       [0.73150822, 0.26849178],\n",
              "       [0.73388966, 0.26611034],\n",
              "       [0.94625424, 0.05374576],\n",
              "       [0.91987483, 0.08012517],\n",
              "       [0.91959136, 0.08040864],\n",
              "       [0.54492885, 0.45507115],\n",
              "       [0.91661528, 0.08338472],\n",
              "       [0.61288437, 0.38711563],\n",
              "       [0.91314187, 0.08685813],\n",
              "       [0.93709265, 0.06290735],\n",
              "       [0.88767114, 0.11232886],\n",
              "       [0.42798895, 0.57201105],\n",
              "       [0.61288437, 0.38711563],\n",
              "       [0.61288437, 0.38711563],\n",
              "       [0.41476145, 0.58523855],\n",
              "       [0.96682318, 0.03317682],\n",
              "       [0.95031467, 0.04968533],\n",
              "       [0.42798895, 0.57201105],\n",
              "       [0.94938852, 0.05061148],\n",
              "       [0.93252834, 0.06747166],\n",
              "       [0.49111626, 0.50888374],\n",
              "       [0.35390615, 0.64609385],\n",
              "       [0.94569471, 0.05430529],\n",
              "       [0.92451216, 0.07548784],\n",
              "       [0.67371853, 0.32628147],\n",
              "       [0.95373707, 0.04626293],\n",
              "       [0.95099201, 0.04900799],\n",
              "       [0.94211258, 0.05788742],\n",
              "       [0.9412546 , 0.0587454 ],\n",
              "       [0.9362932 , 0.0637068 ],\n",
              "       [0.91661528, 0.08338472],\n",
              "       [0.93456233, 0.06543767],\n",
              "       [0.93775148, 0.06224852],\n",
              "       [0.42798895, 0.57201105],\n",
              "       [0.94061699, 0.05938301]])"
            ]
          },
          "execution_count": 27,
          "metadata": {},
          "output_type": "execute_result"
        }
      ]
    },
    {
      "cell_type": "code",
      "metadata": {
        "id": "Tsk2bPVyUTvy",
        "outputId": "9e497a57-19b6-4e2b-948e-3150644df16b"
      },
      "source": [
        "\n",
        "plt.figure(figsize=(16,4))\n",
        "plt.grid(True)\n",
        "plt.xlabel('samples number')\n",
        "plt.ylabel('y_pred,y_true')\n",
        "\n",
        "plt.plot(preds[:,1],label = 'y_pred')\n",
        "plt.plot(y_test.values,label = 'y_true')\n",
        "plt.legend()\n",
        "plt.show()"
      ],
      "execution_count": null,
      "outputs": [
        {
          "data": {
            "image/png": "[encoded data removed]",
            "text/plain": [
              "<Figure size 1152x288 with 1 Axes>"
            ]
          },
          "metadata": {
            "needs_background": "light"
          },
          "output_type": "display_data"
        }
      ]
    },
    {
      "cell_type": "markdown",
      "metadata": {
        "id": "HByD0OcVUTvy"
      },
      "source": [
        "Мы получили вероятности (кстати, не факт - нужно проверять), но давайте посмотрим на метрики"
      ]
    },
    {
      "cell_type": "markdown",
      "metadata": {
        "id": "qPe-WveiUTvz"
      },
      "source": [
        "Также нам нужно от вероятностей перейти к меткам классов. Для этого нужно подобрать порог, после которого мы считаем, что объект можно отнести к классу 1 (если вероятность больше порога - размечаем объект как класс 1, если нет - класс 0), т.е. берем решение не сырое, а просеяное через сито условия принятия"
      ]
    },
    {
      "cell_type": "code",
      "metadata": {
        "id": "3FKFtuBNUTvz",
        "outputId": "5e120a93-2878-4ff8-e9d7-6d9aab8aa67c"
      },
      "source": [
        "tresholds = 0.5 \n",
        "\n",
        "plt.figure(figsize=(16,4))\n",
        "plt.grid(True)\n",
        "plt.xlabel('samples number')\n",
        "plt.ylabel('y_pred,y_true')\n",
        "\n",
        "plt.plot(preds[:,1],label = 'y_pred')\n",
        "plt.plot(y_test.values,label = 'y_true')\n",
        "plt.plot(preds[:,1]>tresholds,label = 'y_pred_treshold')\n",
        "plt.plot([0,40],[tresholds,tresholds],label = 'tresholds')\n",
        "\n",
        "tresholds\n",
        "plt.legend()\n",
        "plt.show()"
      ],
      "execution_count": null,
      "outputs": [
        {
          "data": {
            "image/png": "[encoded data removed]",
            "text/plain": [
              "<Figure size 1152x288 with 1 Axes>"
            ]
          },
          "metadata": {
            "needs_background": "light"
          },
          "output_type": "display_data"
        }
      ]
    },
    {
      "cell_type": "markdown",
      "metadata": {
        "id": "j7D7emIcUTv0"
      },
      "source": [
        "### Вспоминаем базовые DS-метрики классификации"
      ]
    },
    {
      "cell_type": "markdown",
      "metadata": {
        "id": "nulYq-aPUTv0"
      },
      "source": [
        "Матрица ошибок классификации"
      ]
    },
    {
      "cell_type": "markdown",
      "metadata": {
        "id": "4kLfMjcGUTv1"
      },
      "source": [
        "![confusion_matrix](error_matrix.png \"confusion matrix\")"
      ]
    },
    {
      "cell_type": "markdown",
      "metadata": {
        "id": "ml9585s1UTv1"
      },
      "source": [
        "Как это интерпретировать?"
      ]
    },
    {
      "cell_type": "markdown",
      "metadata": {
        "id": "aunUls8fUTv2"
      },
      "source": [
        "### Рассчитаем Precision, Recall, F_score"
      ]
    },
    {
      "cell_type": "markdown",
      "metadata": {
        "id": "cYuDn_f5UTv2"
      },
      "source": [
        "Допустим, что у нас в тесте 1000 заявок. Из них класс 1 - 200\n",
        "\n",
        "Мы обучили модель, сделали прогноз, посчитали порог и выше этого порога у нас 100 заявок.\n",
        "\n",
        "\n",
        "При этом оказывается, что среди этих 100 заявок - 80 действительно класс 1. "
      ]
    },
    {
      "cell_type": "markdown",
      "metadata": {
        "id": "HzTIswL3UTv3"
      },
      "source": [
        "TP = 80, FP = 20, TN = 780, FN = 120"
      ]
    },
    {
      "cell_type": "markdown",
      "metadata": {
        "id": "uOKRf1xJUTv3"
      },
      "source": [
        "Precision = TP/(TP+FP) = 80/(80+20) = 0.8\n",
        "\n",
        "Recall = TP/(TP+FN) = 80/(80+120) = 0.4"
      ]
    },
    {
      "cell_type": "code",
      "metadata": {
        "id": "ePD8ZIPWUTv4"
      },
      "source": [
        "from sklearn.metrics import f1_score, roc_auc_score, precision_score, classification_report, precision_recall_curve, confusion_matrix"
      ],
      "execution_count": null,
      "outputs": []
    },
    {
      "cell_type": "code",
      "metadata": {
        "id": "dhiLQMfMUTv4"
      },
      "source": [
        "precision, recall, thresholds = precision_recall_curve(y_test, preds[:,1])"
      ],
      "execution_count": null,
      "outputs": []
    },
    {
      "cell_type": "code",
      "metadata": {
        "id": "0oTfmONaUTv5",
        "outputId": "3659a1ac-2cb1-479d-dfed-0a8d1ee172d3"
      },
      "source": [
        "thresholds"
      ],
      "execution_count": null,
      "outputs": [
        {
          "data": {
            "text/plain": [
              "array([0.26611034, 0.26849178, 0.32628147, 0.38711563, 0.45507115,\n",
              "       0.50888374, 0.57201105, 0.58523855, 0.64609385])"
            ]
          },
          "execution_count": 32,
          "metadata": {},
          "output_type": "execute_result"
        }
      ]
    },
    {
      "cell_type": "code",
      "metadata": {
        "id": "Vow6PmMZUTv5",
        "outputId": "4e8af182-f2c9-4b3e-e5bb-76cadf6c2d56"
      },
      "source": [
        "fscore = (2 * precision * recall) / (precision + recall)\n",
        "# locate the index of the largest f score\n",
        "ix = np.argmax(fscore)\n",
        "print('Best Threshold=%f, F-Score=%.3f, Precision=%.3f, Recall=%.3f' % (thresholds[ix], \n",
        "                                                                        fscore[ix],\n",
        "                                                                        precision[ix],\n",
        "                                                                        recall[ix]))"
      ],
      "execution_count": null,
      "outputs": [
        {
          "name": "stdout",
          "output_type": "stream",
          "text": [
            "Best Threshold=0.266110, F-Score=0.923, Precision=0.857, Recall=1.000\n"
          ]
        }
      ]
    },
    {
      "cell_type": "code",
      "metadata": {
        "id": "YW3x08utUTv6",
        "outputId": "01c3cc44-1416-4ad6-8a69-f65e97511028"
      },
      "source": [
        "plt.plot(precision, recall,'-r')\n",
        "plt.grid(True)\n",
        "plt.xlabel('precision')\n",
        "plt.ylabel('recall')\n",
        "plt.show()"
      ],
      "execution_count": null,
      "outputs": [
        {
          "data": {
            "image/png": "[encoded data removed]",
            "text/plain": [
              "<Figure size 432x288 with 1 Axes>"
            ]
          },
          "metadata": {
            "needs_background": "light"
          },
          "output_type": "display_data"
        }
      ]
    },
    {
      "cell_type": "markdown",
      "metadata": {
        "id": "33g5PCuBUTv7"
      },
      "source": [
        "#### Вопрос 1: объясните своими словами смысл метрик Precison, Recall *\n",
        "1. Какова их взаимосвязь и как с ними связан порог вероятности? \n",
        "2. Можно ли подобрать порог так, что recall будет равен 1? Что при этом будет с precision\n",
        "3. Аналогичный вопрос про precision\n",
        "\n",
        "\n",
        "\n",
        "* Можно вернуться к этому вопросу после освоения материала из следующего раздела"
      ]
    },
    {
      "cell_type": "markdown",
      "metadata": {
        "id": "_nJVBldSUTv7"
      },
      "source": [
        "Ваш ответ здесь:"
      ]
    },
    {
      "cell_type": "code",
      "metadata": {
        "id": "gQuBHpJtUTv8",
        "outputId": "481cbdc8-48f7-46cd-9e0f-0b0b002531bc"
      },
      "source": [
        "tresholds = 0.5 \n",
        "print(classification_report(y_test, preds[:,1]>tresholds))\n",
        "\n",
        "\n",
        "plt.figure(figsize=(16,4))\n",
        "plt.grid(True)\n",
        "plt.xlabel('samples number')\n",
        "plt.ylabel('y_pred,y_true')\n",
        "\n",
        "plt.plot(preds[:,1],label = 'y_pred')\n",
        "plt.plot(y_test.values,label = 'y_true')\n",
        "plt.plot([0,40],[tresholds,tresholds],label = 'tresholds')\n",
        "\n",
        "tresholds\n",
        "plt.legend()\n",
        "plt.show()"
      ],
      "execution_count": null,
      "outputs": [
        {
          "name": "stdout",
          "output_type": "stream",
          "text": [
            "              precision    recall  f1-score   support\n",
            "\n",
            "           0       0.81      1.00      0.90        26\n",
            "           1       1.00      0.50      0.67        12\n",
            "\n",
            "    accuracy                           0.84        38\n",
            "   macro avg       0.91      0.75      0.78        38\n",
            "weighted avg       0.87      0.84      0.82        38\n",
            "\n"
          ]
        },
        {
          "data": {
            "image/png": "[encoded data removed]",
            "text/plain": [
              "<Figure size 1152x288 with 1 Axes>"
            ]
          },
          "metadata": {
            "needs_background": "light"
          },
          "output_type": "display_data"
        }
      ]
    },
    {
      "cell_type": "markdown",
      "metadata": {
        "id": "x9I4NmkZUTv9"
      },
      "source": [
        "Отрисуем матрицу ошибок для нашего примера"
      ]
    },
    {
      "cell_type": "code",
      "metadata": {
        "id": "b2ZCAY7KUTv-"
      },
      "source": [
        "def plot_confusion_matrix(cm, classes,\n",
        "                          normalize=False,\n",
        "                          title='Confusion matrix',\n",
        "                          cmap=plt.cm.Blues):\n",
        "    \"\"\"\n",
        "    This function prints and plots the confusion matrix.\n",
        "    Normalization can be applied by setting `normalize=True`.\n",
        "    \"\"\"\n",
        "    plt.imshow(cm, interpolation='nearest', cmap=cmap)\n",
        "    plt.title(title)\n",
        "    plt.colorbar()\n",
        "    tick_marks = np.arange(len(classes))\n",
        "    plt.xticks(tick_marks, classes, rotation=45)\n",
        "    plt.yticks(tick_marks, classes)\n",
        "\n",
        "    if normalize:\n",
        "        cm = cm.astype('float') / cm.sum(axis=1)[:, np.newaxis]\n",
        "        print(\"Normalized confusion matrix\")\n",
        "    else:\n",
        "        print('Confusion matrix, without normalization')\n",
        "\n",
        "    print(cm)\n",
        "\n",
        "    thresh = cm.max() / 2.\n",
        "    for i, j in itertools.product(range(cm.shape[0]), range(cm.shape[1])):\n",
        "        plt.text(j, i, cm[i, j],\n",
        "                 horizontalalignment=\"center\",\n",
        "                 color=\"white\" if cm[i, j] > thresh else \"black\")\n",
        "\n",
        "    plt.tight_layout()\n",
        "    plt.ylabel('True label')\n",
        "    plt.xlabel('Predicted label')"
      ],
      "execution_count": null,
      "outputs": []
    },
    {
      "cell_type": "code",
      "metadata": {
        "id": "wXbIgvC7UTv_",
        "outputId": "966d31dd-0ffd-47d2-de01-f27f6c44f807"
      },
      "source": [
        "thresholds[ix]"
      ],
      "execution_count": null,
      "outputs": [
        {
          "data": {
            "text/plain": [
              "0.2661103442633985"
            ]
          },
          "execution_count": 37,
          "metadata": {},
          "output_type": "execute_result"
        }
      ]
    },
    {
      "cell_type": "code",
      "metadata": {
        "id": "u9LcHX5EUTv_",
        "outputId": "3279d687-f468-4c55-b83e-315bdd915f2d"
      },
      "source": [
        "#мы уже нашли ранее \"оптимальный\" порог, когда максимизировали f_score\n",
        "font = {'size' : 15}\n",
        "\n",
        "plt.rc('font', **font)\n",
        "\n",
        "cnf_matrix = confusion_matrix(y_test, preds[:,1]>thresholds[ix])\n",
        "plt.figure(figsize=(10, 8))\n",
        "plot_confusion_matrix(cnf_matrix, classes=['Non-network', 'Network'],\n",
        "                      title='Confusion matrix')\n",
        "plt.savefig(\"conf_matrix.png\")\n",
        "plt.show()"
      ],
      "execution_count": null,
      "outputs": [
        {
          "name": "stdout",
          "output_type": "stream",
          "text": [
            "Confusion matrix, without normalization\n",
            "[[24  2]\n",
            " [ 1 11]]\n"
          ]
        },
        {
          "data": {
            "image/png": "[encoded data removed]",
            "text/plain": [
              "<Figure size 720x576 with 2 Axes>"
            ]
          },
          "metadata": {
            "needs_background": "light"
          },
          "output_type": "display_data"
        }
      ]
    },
    {
      "cell_type": "markdown",
      "metadata": {
        "id": "7scG4bKwUTwA"
      },
      "source": [
        "доля неверно классифицированных объектов класса 1 (Network) - 0.083 (1/12). Это меньше заявленных 0.1 (в гипотезе). Для класса 0 ошибка - 0.076 (2/26) \n",
        "\n",
        "Общая же ошибка получилась 0.079 (3/ (24+11+2+1))."
      ]
    },
    {
      "cell_type": "markdown",
      "metadata": {
        "id": "uempsOlfUTwB"
      },
      "source": [
        "#### Вопрос 2: Как вы думаете, что бы нам пришлось делать, если бы модель ошибалась бы чаще?"
      ]
    },
    {
      "cell_type": "markdown",
      "metadata": {
        "id": "zcLigA90UTwB"
      },
      "source": [
        "Ваш ответ:\n"
      ]
    },
    {
      "cell_type": "markdown",
      "metadata": {
        "id": "PR_ZcWTUUTwC"
      },
      "source": [
        "#### Примечание\n",
        "\n",
        "Конечно же наш пример выше - игрушечный и в реальности такого набора данных будет вряд ли достаточно для каких-либо выводов. Однако такая ситуация с нехваткой данных может быть, но это другая проблема. "
      ]
    },
    {
      "cell_type": "markdown",
      "metadata": {
        "id": "uNpYuqt9UTwC"
      },
      "source": [
        "### Выводы по этапу ML-решения"
      ]
    },
    {
      "cell_type": "markdown",
      "metadata": {
        "id": "6kzqLGziUTwD"
      },
      "source": [
        "Итак, что же мы сделали на данный момент:\n",
        "\n",
        "1. обдумали проблему \n",
        "2. сформулировали так называемую продуктовую гипотезу, в которой определили:\n",
        "   - какую именно задачу мы решаем (классификация заявок по содержимому)\n",
        "   - какая у нас метрика качества (доля верно классифицированных заявок)\n",
        "   - условия (что ошибка не превышает 10 процентов)\n",
        "3. собрали датасет и обучили модель\n",
        "4. проинтерпретировали результаты моделирования и пришли к выводу, что с такой модели можно начать тестирование\n",
        "\n",
        "Что мы еще <b>не</b> сделали:\n",
        "1. НЕ спланировали эксперимент (аб-тестирование)\n",
        "2. НЕ продумали интеграцию"
      ]
    },
    {
      "cell_type": "markdown",
      "metadata": {
        "id": "O9XMKlnZUTwE"
      },
      "source": [
        "Но мы ко всему этому придем постепенно в рамках курса."
      ]
    },
    {
      "cell_type": "markdown",
      "metadata": {
        "id": "FfQhbZ_WUTwE"
      },
      "source": [
        "### Что стоит знать для комфортного прохождения курса (минимум)"
      ]
    },
    {
      "cell_type": "markdown",
      "metadata": {
        "id": "FtvS1cATUTwF"
      },
      "source": [
        "1. \"базовый\" ML\n",
        "2. основы статистики и теории вероятностей\n",
        "3. python на базовом уровне"
      ]
    },
    {
      "cell_type": "markdown",
      "metadata": {
        "id": "S4uOVykaUTwF"
      },
      "source": [
        "#### Более детально:"
      ]
    },
    {
      "cell_type": "markdown",
      "metadata": {
        "id": "SXDdwFMuUTwF"
      },
      "source": [
        "Необходимые навыки и знания для успешного прохождения курса:\n",
        "1. Машинное обучение на среднем уровне (понятна разница между задачами регрессии и классификации, знаете что такое кроссвалидация, понимаете метрики качества вроде rocauc, recall, logloss, etc). \n",
        "2. Python. Здесь понадобится не только знание синтаксиса языка, но и желательно, навыки работы с прикладными пакетами вроде sklearn, pandas, numpy, matplotlib (на уроках конечно же будем все разбирать, но будет намного легче, если есть опыт)\n",
        "3. Python. Навыки работы со средствами установки пакетов: pip, Conda. А также (желательно) умение работать с virtualenv и понимание в целом про то как работать с разными окружениями python на одном сервере.\n",
        "4. ООП. Умение не просто писать код на питоне в «процедурном» стиле, а способность завернуть все это в удобные классы и функции будет очень полезным.\n",
        "\n",
        "Ссылки:\n",
        "\n",
        "1. https://scikit-learn.org/stable/user_guide.html\n",
        "2. https://pandas.pydata.org/docs/user_guide/index.html\n",
        "3. https://docs.conda.io/en/latest/"
      ]
    },
    {
      "cell_type": "markdown",
      "metadata": {
        "id": "lv_XWQBBUTwG"
      },
      "source": [
        "### По инструментам *"
      ]
    },
    {
      "cell_type": "markdown",
      "metadata": {
        "id": "IIV_ukmfUTwG"
      },
      "source": [
        "1. IDE - pycharm\n",
        "2. github (tutorial - https://guides.github.com/activities/hello-world/)\n",
        "3. jupyter notebook\n",
        "4. virtualenv/pip/conda (последнее - проще всего установить и настроить)\n",
        "\n",
        "Ссылки:\n",
        "\n",
        "1. https://virtualenv.pypa.io/en/latest/"
      ]
    },
    {
      "cell_type": "markdown",
      "metadata": {
        "id": "UWtwKF3RUTwH"
      },
      "source": [
        "*- здесь полная свобода выбора"
      ]
    },
    {
      "cell_type": "markdown",
      "metadata": {
        "id": "Jk7NPEfQUTwH"
      },
      "source": [
        "### Домашнее задание 1 (теоретическая часть)"
      ]
    },
    {
      "cell_type": "markdown",
      "metadata": {
        "id": "HnxxOqYpUTwI"
      },
      "source": [
        "Здесь предлагается то, что полезно знать и уметь для успешного прохождения курса (да и без курса полезно)\n",
        "\n",
        "ML: \n",
        "1. вспомнить базовые алгоритмы машинного обучения: линейные модели, \"деревянные\"\n",
        "2. повторить метрики качества в задачах классификации/регрессии. (например, понимать что такое roc auc и как его интерпретировать и т.д)\n",
        "3. вспомнить из каких этапов состоит решение ML-задачи и уметь объяснить каждый из этапов: подготовка данных, feature engineering, modelling, evaluation, etc\n",
        "4. кроссвалидация\n",
        "\n",
        "Теория вероятностей и статистика:\n",
        "1. Генеральная совокупность и выборка\n",
        "2. Базовые статистики: среднее, медиана, дисперсия\n",
        "3. Распределения: нормальное, бернулли, пуассона и т.д\n",
        "4. Нулевая и альтернативная гипотезы\n",
        "5. статистические тесты\n",
        "\n",
        "Python:\n",
        "1. структуры данных: set, list, dict, tuple, etc\n",
        "2. циклы, условия\n",
        "3. numpy/pandas/sklearn"
      ]
    },
    {
      "cell_type": "markdown",
      "metadata": {
        "id": "p32QLJCRUTwI"
      },
      "source": [
        "### Полезные ссылки\n",
        "\n",
        "1. метрики качества - https://habr.com/ru/company/ods/blog/328372/\n",
        "2. roc auc - https://dyakonov.org/2017/07/28/auc-roc-площадь-под-кривой-ошибок/\n",
        "3. Основы статистики: просто о сложных формулах - https://habr.com/ru/company/stepic/blog/250527/\n",
        "4. Теория вероятностей в работе программиста (вебинар) - https://geekbrains.ru/events/129\n",
        "5. Туториал по машинному обучению (sklearn) - https://scikit-learn.org/stable/tutorial/basic/tutorial.html\n",
        "6. Туториал по github - https://guides.github.com/activities/hello-world/"
      ]
    },
    {
      "cell_type": "markdown",
      "metadata": {
        "id": "TlSK1_8sUTwJ"
      },
      "source": [
        "### Домашнее задание 2 (практическая часть)"
      ]
    },
    {
      "cell_type": "markdown",
      "metadata": {
        "id": "AjopdAYAUTwJ"
      },
      "source": [
        "Ноутбук HW1.ipynb (есть в директории занятия)\n",
        "\n",
        "\n",
        "Нужные пакеты и библиотеки:\n",
        "- plotly\n",
        "- imblearn\n",
        "- yellowbrick"
      ]
    },
    {
      "cell_type": "markdown",
      "metadata": {
        "id": "KuPkEur_UTwK"
      },
      "source": [
        ""
      ]
    }
  ]
}