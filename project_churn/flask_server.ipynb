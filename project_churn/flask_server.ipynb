{
 "cells": [
  {
   "cell_type": "markdown",
   "metadata": {
    "id": "Vgpa6dK_sjd6"
   },
   "source": [
    "## Схема проекта"
   ]
  },
  {
   "cell_type": "markdown",
   "metadata": {
    "id": "H3EsTC0PgFSG"
   },
   "source": [
    "**Принципиальные моменты:**\n",
    "*   У страховой компании нет времени \"на подумать\", решение о приеме на страхование или отказе, а также о тарифе должено быть сделано непосредственно в момент обращения клиента за полисом. Соответственно, сервис должен работать в режиме реального времени и давать ответ в течение максимум нескольких секунд.\n",
    "*   Сервис скоринга строится обычно отдельным блоком, а фронт-система взаимодействует с сервисом через API (Application programming interface).\n",
    "*   Запрос данных из внешних источников может производиться как на уровне фронт-системы, так и на уровне сервиса.\n",
    "*   Один из возможных вариантов - Flask.\n",
    "*   Передача информации производится путем обмена json-файлами.\n",
    "*   Для тестирования можно использовать Postman."
   ]
  },
  {
   "cell_type": "markdown",
   "metadata": {
    "id": "w4V2hYPyAYs9"
   },
   "source": [
    "  ![](https://drive.google.com/uc?export=view&id=1OAOF1M2U14UJWDmeJg2mwo-pgSwyNyzc)"
   ]
  },
  {
   "cell_type": "markdown",
   "metadata": {
    "id": "5z3-vxNngRLY"
   },
   "source": [
    "## JSON"
   ]
  },
  {
   "cell_type": "markdown",
   "metadata": {
    "id": "I3qRhEzYAZE_"
   },
   "source": [
    "JSON (JavaScript Object Notation) - простой текстовый формат обмена данными, он основан на подмножестве языка программирования JavaScript.<br/>\n",
    "Например, строка из нашего датасета выглядела бы следующим образом:<br/>\n",
    "```\n",
    "{\n",
    "\"ID\": 1,\n",
    "\"Exposure\": 0.583,\n",
    "\"RecordBeg\": \"2004-06-01\",\n",
    "\"RecordEnd\": \"\",\n",
    "\"DrivAge\": 55,\n",
    "\"Gender\": \"Female\",\n",
    "...\n",
    "}\n",
    "```"
   ]
  },
  {
   "cell_type": "markdown",
   "metadata": {
    "id": "_KCCtAZqgbI6"
   },
   "source": [
    "## При внедрении"
   ]
  },
  {
   "cell_type": "markdown",
   "metadata": {
    "id": "bwDoeEWdRZUv"
   },
   "source": [
    "**При внедрении необходимо сделать:**\n",
    "*   Определить формат json'а, в котором данные будут приниматься сервисом и отправляться обратно.\n",
    "*   Определить ip-адрес и порт, на который будут поступать данные.\n",
    "*   Создать во Flask необходимые роуты:<br/>\n",
    "    `@app.route('/predict_example', method='POST')`<br/>\n",
    "    `def predict_example():`\n",
    "*   Перенести во Flask все функции преобразования данных,\n",
    "    *   формат данные, приходящих от фронт-системы, может отличаться от формата исторических данных, использовавшихся при построении модели; в результате преобразований данные на вход модели должны поступить ровно в том виде, в каком была обучена модель.\n",
    "*   Загрузить обученные модели.\n",
    "*   Настроить логирование, запись котировок."
   ]
  },
  {
   "cell_type": "markdown",
   "metadata": {
    "id": "1c-2EUcjRZQp"
   },
   "source": [
    "**Особенности:**\n",
    "*   Библиотека H2O использует виртуальную Java-машину:\n",
    "    *   ее нужно инициализировать один раз, а не поднимать заново для каждого расчета;\n",
    "    *   вручную выделить под нее отдельный порт и указать размер используемой памяти;\n",
    "    *   не создавать каждый раз заново H2O-Frame, а записывать в единожды подготовленный.\n",
    "*   Необходимо удостовериться, что на всех этапах сервис отрабатывает корректно; например, можно иметь заготовленный массив котировок с заранее известными ответами.\n",
    "*   Необходимо провести нагрузочное тестирование и удостовериться, что сервис справляется с нагрузкой.\n",
    "*   Для согласованности версий Python, Java при переносе на другие серверы имеет смысл использовать докеры.\n",
    "\n"
   ]
  },
  {
   "cell_type": "markdown",
   "metadata": {
    "id": "koF_iLbj89XC"
   },
   "source": [
    "## Flask\n",
    "\n",
    "Тут будет сервис для обработки запросов на Flask"
   ]
  },
  {
   "cell_type": "code",
   "execution_count": null,
   "metadata": {
    "colab": {
     "base_uri": "https://localhost:8080/"
    },
    "id": "sPRN2DRXG_kX",
    "outputId": "f6c8ce3e-361a-4ee8-f51c-4c3818881665"
   },
   "outputs": [],
   "source": [
    "# Подключение к Google drive\n",
    "\n",
    "# from google.colab import drive\n",
    "# drive.mount('/content/drive')"
   ]
  },
  {
   "cell_type": "markdown",
   "metadata": {
    "id": "bDCtyzx2_-OV"
   },
   "source": [
    "Google Colab предоставляет виртуальную машину, поэтому мы не можем получить доступ к локальному хосту, как это делаем на нашем локальном компьютере при запуске локального веб-сервера. Что мы можем сделать, так это предоставить его общедоступному URL-адресу с помощью ngrok.\n",
    "\n",
    "https://medium.com/@kshitijvijay271199/flask-on-google-colab-f6525986797b"
   ]
  },
  {
   "cell_type": "code",
   "execution_count": null,
   "metadata": {
    "colab": {
     "base_uri": "https://localhost:8080/"
    },
    "id": "2laQ3An4_06O",
    "outputId": "f4feb9ad-d66d-4b43-f975-ff9acc60b6d3"
   },
   "outputs": [],
   "source": [
    "# !pip install flask-ngrok\n",
    "# !pip install flask"
   ]
  },
  {
   "cell_type": "code",
   "execution_count": 1,
   "metadata": {
    "id": "KaWqHrF2865_"
   },
   "outputs": [],
   "source": [
    "# from flask_ngrok import run_with_ngrok\n",
    "from flask import Flask, request, jsonify\n",
    "import pandas as pd"
   ]
  },
  {
   "cell_type": "code",
   "execution_count": 11,
   "metadata": {
    "colab": {
     "base_uri": "https://localhost:8080/"
    },
    "id": "YKvAxhnG9f6m",
    "outputId": "ddae1bec-0247-47e8-f1d8-76cc70fdf7dc"
   },
   "outputs": [
    {
     "name": "stdout",
     "output_type": "stream",
     "text": [
      " * Serving Flask app \"__main__\" (lazy loading)\n",
      " * Environment: production\n",
      "\u001b[31m   WARNING: This is a development server. Do not use it in a production deployment.\u001b[0m\n",
      "\u001b[2m   Use a production WSGI server instead.\u001b[0m\n",
      " * Debug mode: off\n"
     ]
    },
    {
     "name": "stderr",
     "output_type": "stream",
     "text": [
      " * Running on http://127.0.0.1:5000/ (Press CTRL+C to quit)\n",
      "127.0.0.1 - - [04/Dec/2021 07:57:55] \"\u001b[33mGET / HTTP/1.1\u001b[0m\" 404 -\n",
      "127.0.0.1 - - [04/Dec/2021 07:58:04] \"\u001b[37mGET /a HTTP/1.1\u001b[0m\" 200 -\n"
     ]
    }
   ],
   "source": [
    "# Пробный запуск Flask # надо выключить!\n",
    "\n",
    "app = Flask(__name__)\n",
    "# run_with_ngrok(app)  # Start ngrok when app is run\n",
    "\n",
    "@app.route(\"/a\")\n",
    "def hello():\n",
    "    return \"Hello World!\"\n",
    "\n",
    "if __name__ == '__main__':\n",
    "    app.run()"
   ]
  },
  {
   "cell_type": "code",
   "execution_count": 3,
   "metadata": {
    "colab": {
     "base_uri": "https://localhost:8080/"
    },
    "id": "YVdnKbCeUfxX",
    "outputId": "e8a18999-0c35-417c-f83e-fd59712a487f"
   },
   "outputs": [
    {
     "name": "stderr",
     "output_type": "stream",
     "text": [
      "/home/morrowbord/anaconda3/lib/python3.8/site-packages/sklearn/utils/deprecation.py:143: FutureWarning: The sklearn.metrics.scorer module is  deprecated in version 0.22 and will be removed in version 0.24. The corresponding classes / functions should instead be imported from sklearn.metrics. Anything that cannot be imported from sklearn.metrics is now part of the private API.\n",
      "  warnings.warn(message, FutureWarning)\n"
     ]
    }
   ],
   "source": [
    "import pandas as pd\n",
    "from sklearn.metrics import roc_auc_score,roc_curve,scorer\n",
    "import dill\n",
    "dill._dill._reverse_typemap['ClassType'] = type"
   ]
  },
  {
   "cell_type": "markdown",
   "metadata": {
    "id": "6Je5vTHecqjm"
   },
   "source": [
    "### **Создаем сервис для обработки запросов к модели**"
   ]
  },
  {
   "cell_type": "code",
   "execution_count": 4,
   "metadata": {
    "id": "pBwkaHthUkTX"
   },
   "outputs": [],
   "source": [
    "# path = '/content/gdrive/MyDrive/2_ver_actual Артем Зраев. 10.2020/Lection9/'\n",
    "path2='/home/morrowbord/jupiyer-notebook/ML_business/project_churn/'"
   ]
  },
  {
   "cell_type": "code",
   "execution_count": 5,
   "metadata": {
    "id": "KixQ-op0GIpV"
   },
   "outputs": [],
   "source": [
    "# Загружаем обученные модели\n",
    "with open(path2 + 'model_RF.dill', 'rb') as in_strm:\n",
    "    model = dill.load(in_strm)"
   ]
  },
  {
   "cell_type": "code",
   "execution_count": 6,
   "metadata": {
    "id": "QAyoTMLNVJzn"
   },
   "outputs": [],
   "source": [
    "X_test = pd.read_csv(path2+\"X_test.csv\")\n",
    "y_test = pd.read_csv(path2+\"y_test.csv\")"
   ]
  },
  {
   "cell_type": "markdown",
   "metadata": {
    "id": "aomkZwKfdA08"
   },
   "source": [
    "Запустить сервис и не глушить его, пока работаем "
   ]
  },
  {
   "cell_type": "code",
   "execution_count": null,
   "metadata": {
    "colab": {
     "base_uri": "https://localhost:8080/"
    },
    "id": "pmii6qPeGInX",
    "outputId": "02c8cd7b-c6db-4e5a-c76d-2c160af6a3ca"
   },
   "outputs": [
    {
     "name": "stdout",
     "output_type": "stream",
     "text": [
      " * Serving Flask app \"__main__\" (lazy loading)\n",
      " * Environment: production\n",
      "\u001b[31m   WARNING: This is a development server. Do not use it in a production deployment.\u001b[0m\n",
      "\u001b[2m   Use a production WSGI server instead.\u001b[0m\n",
      " * Debug mode: off\n"
     ]
    },
    {
     "name": "stderr",
     "output_type": "stream",
     "text": [
      " * Running on http://127.0.0.1:5000/ (Press CTRL+C to quit)\n",
      "[2021-12-04 07:59:13,292] ERROR in app: Exception on /predict [POST]\n",
      "Traceback (most recent call last):\n",
      "  File \"/home/morrowbord/anaconda3/lib/python3.8/site-packages/flask/app.py\", line 2447, in wsgi_app\n",
      "    response = self.full_dispatch_request()\n",
      "  File \"/home/morrowbord/anaconda3/lib/python3.8/site-packages/flask/app.py\", line 1952, in full_dispatch_request\n",
      "    rv = self.handle_user_exception(e)\n",
      "  File \"/home/morrowbord/anaconda3/lib/python3.8/site-packages/flask/app.py\", line 1821, in handle_user_exception\n",
      "    reraise(exc_type, exc_value, tb)\n",
      "  File \"/home/morrowbord/anaconda3/lib/python3.8/site-packages/flask/_compat.py\", line 39, in reraise\n",
      "    raise value\n",
      "  File \"/home/morrowbord/anaconda3/lib/python3.8/site-packages/flask/app.py\", line 1950, in full_dispatch_request\n",
      "    rv = self.dispatch_request()\n",
      "  File \"/home/morrowbord/anaconda3/lib/python3.8/site-packages/flask/app.py\", line 1936, in dispatch_request\n",
      "    return self.view_functions[rule.endpoint](**req.view_args)\n",
      "  File \"<ipython-input-12-097c5ff1381b>\", line 22, in predict\n",
      "    preds = model.predict_proba(pd.DataFrame({\"gender\": [gender],\n",
      "  File \"/home/morrowbord/anaconda3/lib/python3.8/site-packages/sklearn/utils/metaestimators.py\", line 119, in <lambda>\n",
      "    out = lambda *args, **kwargs: self.fn(obj, *args, **kwargs)\n",
      "  File \"/home/morrowbord/anaconda3/lib/python3.8/site-packages/sklearn/pipeline.py\", line 463, in predict_proba\n",
      "    Xt = transform.transform(Xt)\n",
      "  File \"/home/morrowbord/anaconda3/lib/python3.8/site-packages/sklearn/pipeline.py\", line 1008, in transform\n",
      "    Xs = Parallel(n_jobs=self.n_jobs)(\n",
      "  File \"/home/morrowbord/anaconda3/lib/python3.8/site-packages/joblib/parallel.py\", line 1048, in __call__\n",
      "    if self.dispatch_one_batch(iterator):\n",
      "  File \"/home/morrowbord/anaconda3/lib/python3.8/site-packages/joblib/parallel.py\", line 866, in dispatch_one_batch\n",
      "    self._dispatch(tasks)\n",
      "  File \"/home/morrowbord/anaconda3/lib/python3.8/site-packages/joblib/parallel.py\", line 784, in _dispatch\n",
      "    job = self._backend.apply_async(batch, callback=cb)\n",
      "  File \"/home/morrowbord/anaconda3/lib/python3.8/site-packages/joblib/_parallel_backends.py\", line 208, in apply_async\n",
      "    result = ImmediateResult(func)\n",
      "  File \"/home/morrowbord/anaconda3/lib/python3.8/site-packages/joblib/_parallel_backends.py\", line 572, in __init__\n",
      "    self.results = batch()\n",
      "  File \"/home/morrowbord/anaconda3/lib/python3.8/site-packages/joblib/parallel.py\", line 262, in __call__\n",
      "    return [func(*args, **kwargs)\n",
      "  File \"/home/morrowbord/anaconda3/lib/python3.8/site-packages/joblib/parallel.py\", line 262, in <listcomp>\n",
      "    return [func(*args, **kwargs)\n",
      "  File \"/home/morrowbord/anaconda3/lib/python3.8/site-packages/sklearn/pipeline.py\", line 719, in _transform_one\n",
      "    res = transformer.transform(X)\n",
      "  File \"/home/morrowbord/anaconda3/lib/python3.8/site-packages/sklearn/pipeline.py\", line 549, in _transform\n",
      "    Xt = transform.transform(Xt)\n",
      "  File \"/home/morrowbord/anaconda3/lib/python3.8/site-packages/sklearn/preprocessing/_data.py\", line 791, in transform\n",
      "    X = self._validate_data(X, reset=False,\n",
      "  File \"/home/morrowbord/anaconda3/lib/python3.8/site-packages/sklearn/base.py\", line 420, in _validate_data\n",
      "    X = check_array(X, **check_params)\n",
      "  File \"/home/morrowbord/anaconda3/lib/python3.8/site-packages/sklearn/utils/validation.py\", line 72, in inner_f\n",
      "    return f(**kwargs)\n",
      "  File \"/home/morrowbord/anaconda3/lib/python3.8/site-packages/sklearn/utils/validation.py\", line 598, in check_array\n",
      "    array = np.asarray(array, order=order, dtype=dtype)\n",
      "  File \"/home/morrowbord/anaconda3/lib/python3.8/site-packages/numpy/core/_asarray.py\", line 83, in asarray\n",
      "    return array(a, dtype, copy=False, order=order)\n",
      "  File \"/home/morrowbord/anaconda3/lib/python3.8/site-packages/pandas/core/generic.py\", line 1781, in __array__\n",
      "    return np.asarray(self._values, dtype=dtype)\n",
      "  File \"/home/morrowbord/anaconda3/lib/python3.8/site-packages/numpy/core/_asarray.py\", line 83, in asarray\n",
      "    return array(a, dtype, copy=False, order=order)\n",
      "ValueError: could not convert string to float: ''\n",
      "127.0.0.1 - - [04/Dec/2021 07:59:13] \"\u001b[35m\u001b[1mPOST /predict HTTP/1.1\u001b[0m\" 500 -\n"
     ]
    },
    {
     "name": "stdout",
     "output_type": "stream",
     "text": [
      "['gender']\n"
     ]
    }
   ],
   "source": [
    "# Обработчики и запуск Flask\n",
    "app = Flask(__name__)\n",
    "# run_with_ngrok(app)  # Start ngrok when app is run\n",
    "\n",
    "@app.route('/predict', methods=['GET', 'POST'])\n",
    "def predict():\n",
    "    data = {\"success\": False}\n",
    "  # ensure an image was properly uploaded to our endpoint\n",
    "    if request.method == \"POST\":\n",
    "#       description, company_profile, benefits = \"\", \"\", \"qq\"\n",
    "        gender, tenure, PhoneService, TotalCharges, StreamingMovies, StreamingTV, TechSupport = \"\",\"\",\"\",\"\",\"\",\"\",\"qq\"\n",
    "        request_json = request.get_json()\n",
    "    if request_json[\"gender\"]:\n",
    "        description = request_json['gender']\n",
    "  \n",
    "    if request_json[\"tenure\"]:\n",
    "        company_profile = request_json['tenure']\n",
    "\t\t       \n",
    "    if request_json[\"PhoneService\"]:\n",
    "        benefits = request_json['PhoneService']\n",
    "    print(description )  \n",
    "    preds = model.predict_proba(pd.DataFrame({\"gender\": [gender],\n",
    "                                            \"tenure\": [tenure],\n",
    "                                            \"PhoneService\": [PhoneService],\n",
    "                                           \"TotalCharges\": [TotalCharges],\n",
    "                                            \"StreamingMovies\":[StreamingMovies], \n",
    "                                            \"StreamingTV\":[StreamingTV],\n",
    "                                            \"TechSupport\":[TechSupport]\n",
    "                                            \n",
    "                                           }))\n",
    "    data[\"predictions\"] = preds[:, 1][0]\n",
    "    data[\"description\"] = description\n",
    "\t# indicate that the request was a success\n",
    "    data[\"success\"] = True\n",
    "\n",
    "\t# return the data dictionary as a JSON response\n",
    "    return jsonify(data)\n",
    " \n",
    "\n",
    "if __name__ == '__main__':\n",
    "    app.run()"
   ]
  },
  {
   "cell_type": "code",
   "execution_count": null,
   "metadata": {},
   "outputs": [],
   "source": []
  },
  {
   "cell_type": "code",
   "execution_count": null,
   "metadata": {},
   "outputs": [],
   "source": []
  }
 ],
 "metadata": {
  "colab": {
   "collapsed_sections": [],
   "name": "Lesson 9.ipynb",
   "provenance": [],
   "toc_visible": true
  },
  "kernelspec": {
   "display_name": "Python 3",
   "language": "python",
   "name": "python3"
  },
  "language_info": {
   "codemirror_mode": {
    "name": "ipython",
    "version": 3
   },
   "file_extension": ".py",
   "mimetype": "text/x-python",
   "name": "python",
   "nbconvert_exporter": "python",
   "pygments_lexer": "ipython3",
   "version": "3.8.5"
  }
 },
 "nbformat": 4,
 "nbformat_minor": 1
}
